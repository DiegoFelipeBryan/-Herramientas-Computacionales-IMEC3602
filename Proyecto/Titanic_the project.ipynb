{
 "cells": [
  {
   "cell_type": "markdown",
   "metadata": {},
   "source": [
    "# Proyecto final"
   ]
  },
  {
   "cell_type": "markdown",
   "metadata": {},
   "source": [
    "#### 1-3) [Lectura de datos](#primero)\n",
    "#### 4-8) [Procesamiento de datos y regularización](#segundo)\n",
    "#### 9-13.3) [Implementación de modelos y análisis de precisión](#tercero)\n",
    "#### 14-16) [Mejores modelos y predicciones datos de prueba](#cuarto)\n",
    "#### 17-18) [Resultados y conclusiones](#quinto)\n",
    "#### [Referencias](#sexto)"
   ]
  },
  {
   "cell_type": "markdown",
   "metadata": {},
   "source": [
    "Estos son todos los paquetes empleados para la implementación:"
   ]
  },
  {
   "cell_type": "code",
   "execution_count": 1,
   "metadata": {},
   "outputs": [
    {
     "name": "stdout",
     "output_type": "stream",
     "text": [
      "Populating the interactive namespace from numpy and matplotlib\n"
     ]
    }
   ],
   "source": [
    "%pylab inline\n",
    "import os\n",
    "import numpy as np\n",
    "import pandas as pd\n",
    "import matplotlib.pyplot as plt\n",
    "import seaborn as sns\n",
    "from sklearn import preprocessing\n",
    "from sklearn.model_selection import train_test_split\n",
    "from sklearn.metrics import make_scorer, accuracy_score\n",
    "from sklearn.model_selection import GridSearchCV\n",
    "\n",
    "import sklearn\n",
    "import sklearn.datasets\n",
    "import sklearn.linear_model\n",
    "from sklearn import svm\n",
    "\n",
    "from sklearn.metrics import accuracy_score, log_loss\n",
    "from sklearn.neighbors import KNeighborsClassifier\n",
    "from sklearn.svm import SVC\n",
    "from sklearn.tree import DecisionTreeClassifier\n",
    "from sklearn.ensemble import RandomForestClassifier, AdaBoostClassifier, GradientBoostingClassifier\n",
    "from sklearn.naive_bayes import GaussianNB\n",
    "from sklearn.discriminant_analysis import LinearDiscriminantAnalysis, QuadraticDiscriminantAnalysis\n",
    "from sklearn.linear_model import LogisticRegression\n",
    "%matplotlib inline\n"
   ]
  },
  {
   "cell_type": "markdown",
   "metadata": {},
   "source": [
    "## Lectura de datos <a name=\"primero\"></a>"
   ]
  },
  {
   "cell_type": "markdown",
   "metadata": {},
   "source": [
    "**1)** Se importan los datos suministrados por [Kaggle](https://www.kaggle.com/c/titanic/data)"
   ]
  },
  {
   "cell_type": "code",
   "execution_count": 2,
   "metadata": {
    "collapsed": true
   },
   "outputs": [],
   "source": [
    "data_train = pd.read_csv(os.path.join('.','train.csv'))\n",
    "data_test = pd.read_csv(os.path.join('.','test.csv'))"
   ]
  },
  {
   "cell_type": "markdown",
   "metadata": {},
   "source": [
    "**2)** Para ver el formato en el que vienen los datos:"
   ]
  },
  {
   "cell_type": "code",
   "execution_count": 3,
   "metadata": {},
   "outputs": [
    {
     "data": {
      "text/html": [
       "<div>\n",
       "<style>\n",
       "    .dataframe thead tr:only-child th {\n",
       "        text-align: right;\n",
       "    }\n",
       "\n",
       "    .dataframe thead th {\n",
       "        text-align: left;\n",
       "    }\n",
       "\n",
       "    .dataframe tbody tr th {\n",
       "        vertical-align: top;\n",
       "    }\n",
       "</style>\n",
       "<table border=\"1\" class=\"dataframe\">\n",
       "  <thead>\n",
       "    <tr style=\"text-align: right;\">\n",
       "      <th></th>\n",
       "      <th>PassengerId</th>\n",
       "      <th>Survived</th>\n",
       "      <th>Pclass</th>\n",
       "      <th>Name</th>\n",
       "      <th>Sex</th>\n",
       "      <th>Age</th>\n",
       "      <th>SibSp</th>\n",
       "      <th>Parch</th>\n",
       "      <th>Ticket</th>\n",
       "      <th>Fare</th>\n",
       "      <th>Cabin</th>\n",
       "      <th>Embarked</th>\n",
       "    </tr>\n",
       "  </thead>\n",
       "  <tbody>\n",
       "    <tr>\n",
       "      <th>651</th>\n",
       "      <td>652</td>\n",
       "      <td>1</td>\n",
       "      <td>2</td>\n",
       "      <td>Doling, Miss. Elsie</td>\n",
       "      <td>female</td>\n",
       "      <td>18.0</td>\n",
       "      <td>0</td>\n",
       "      <td>1</td>\n",
       "      <td>231919</td>\n",
       "      <td>23.0000</td>\n",
       "      <td>NaN</td>\n",
       "      <td>S</td>\n",
       "    </tr>\n",
       "    <tr>\n",
       "      <th>89</th>\n",
       "      <td>90</td>\n",
       "      <td>0</td>\n",
       "      <td>3</td>\n",
       "      <td>Celotti, Mr. Francesco</td>\n",
       "      <td>male</td>\n",
       "      <td>24.0</td>\n",
       "      <td>0</td>\n",
       "      <td>0</td>\n",
       "      <td>343275</td>\n",
       "      <td>8.0500</td>\n",
       "      <td>NaN</td>\n",
       "      <td>S</td>\n",
       "    </tr>\n",
       "    <tr>\n",
       "      <th>7</th>\n",
       "      <td>8</td>\n",
       "      <td>0</td>\n",
       "      <td>3</td>\n",
       "      <td>Palsson, Master. Gosta Leonard</td>\n",
       "      <td>male</td>\n",
       "      <td>2.0</td>\n",
       "      <td>3</td>\n",
       "      <td>1</td>\n",
       "      <td>349909</td>\n",
       "      <td>21.0750</td>\n",
       "      <td>NaN</td>\n",
       "      <td>S</td>\n",
       "    </tr>\n",
       "    <tr>\n",
       "      <th>774</th>\n",
       "      <td>775</td>\n",
       "      <td>1</td>\n",
       "      <td>2</td>\n",
       "      <td>Hocking, Mrs. Elizabeth (Eliza Needs)</td>\n",
       "      <td>female</td>\n",
       "      <td>54.0</td>\n",
       "      <td>1</td>\n",
       "      <td>3</td>\n",
       "      <td>29105</td>\n",
       "      <td>23.0000</td>\n",
       "      <td>NaN</td>\n",
       "      <td>S</td>\n",
       "    </tr>\n",
       "    <tr>\n",
       "      <th>314</th>\n",
       "      <td>315</td>\n",
       "      <td>0</td>\n",
       "      <td>2</td>\n",
       "      <td>Hart, Mr. Benjamin</td>\n",
       "      <td>male</td>\n",
       "      <td>43.0</td>\n",
       "      <td>1</td>\n",
       "      <td>1</td>\n",
       "      <td>F.C.C. 13529</td>\n",
       "      <td>26.2500</td>\n",
       "      <td>NaN</td>\n",
       "      <td>S</td>\n",
       "    </tr>\n",
       "    <tr>\n",
       "      <th>342</th>\n",
       "      <td>343</td>\n",
       "      <td>0</td>\n",
       "      <td>2</td>\n",
       "      <td>Collander, Mr. Erik Gustaf</td>\n",
       "      <td>male</td>\n",
       "      <td>28.0</td>\n",
       "      <td>0</td>\n",
       "      <td>0</td>\n",
       "      <td>248740</td>\n",
       "      <td>13.0000</td>\n",
       "      <td>NaN</td>\n",
       "      <td>S</td>\n",
       "    </tr>\n",
       "    <tr>\n",
       "      <th>820</th>\n",
       "      <td>821</td>\n",
       "      <td>1</td>\n",
       "      <td>1</td>\n",
       "      <td>Hays, Mrs. Charles Melville (Clara Jennings Gr...</td>\n",
       "      <td>female</td>\n",
       "      <td>52.0</td>\n",
       "      <td>1</td>\n",
       "      <td>1</td>\n",
       "      <td>12749</td>\n",
       "      <td>93.5000</td>\n",
       "      <td>B69</td>\n",
       "      <td>S</td>\n",
       "    </tr>\n",
       "    <tr>\n",
       "      <th>627</th>\n",
       "      <td>628</td>\n",
       "      <td>1</td>\n",
       "      <td>1</td>\n",
       "      <td>Longley, Miss. Gretchen Fiske</td>\n",
       "      <td>female</td>\n",
       "      <td>21.0</td>\n",
       "      <td>0</td>\n",
       "      <td>0</td>\n",
       "      <td>13502</td>\n",
       "      <td>77.9583</td>\n",
       "      <td>D9</td>\n",
       "      <td>S</td>\n",
       "    </tr>\n",
       "    <tr>\n",
       "      <th>265</th>\n",
       "      <td>266</td>\n",
       "      <td>0</td>\n",
       "      <td>2</td>\n",
       "      <td>Reeves, Mr. David</td>\n",
       "      <td>male</td>\n",
       "      <td>36.0</td>\n",
       "      <td>0</td>\n",
       "      <td>0</td>\n",
       "      <td>C.A. 17248</td>\n",
       "      <td>10.5000</td>\n",
       "      <td>NaN</td>\n",
       "      <td>S</td>\n",
       "    </tr>\n",
       "    <tr>\n",
       "      <th>705</th>\n",
       "      <td>706</td>\n",
       "      <td>0</td>\n",
       "      <td>2</td>\n",
       "      <td>Morley, Mr. Henry Samuel (\"Mr Henry Marshall\")</td>\n",
       "      <td>male</td>\n",
       "      <td>39.0</td>\n",
       "      <td>0</td>\n",
       "      <td>0</td>\n",
       "      <td>250655</td>\n",
       "      <td>26.0000</td>\n",
       "      <td>NaN</td>\n",
       "      <td>S</td>\n",
       "    </tr>\n",
       "  </tbody>\n",
       "</table>\n",
       "</div>"
      ],
      "text/plain": [
       "     PassengerId  Survived  Pclass  \\\n",
       "651          652         1       2   \n",
       "89            90         0       3   \n",
       "7              8         0       3   \n",
       "774          775         1       2   \n",
       "314          315         0       2   \n",
       "342          343         0       2   \n",
       "820          821         1       1   \n",
       "627          628         1       1   \n",
       "265          266         0       2   \n",
       "705          706         0       2   \n",
       "\n",
       "                                                  Name     Sex   Age  SibSp  \\\n",
       "651                                Doling, Miss. Elsie  female  18.0      0   \n",
       "89                              Celotti, Mr. Francesco    male  24.0      0   \n",
       "7                       Palsson, Master. Gosta Leonard    male   2.0      3   \n",
       "774              Hocking, Mrs. Elizabeth (Eliza Needs)  female  54.0      1   \n",
       "314                                 Hart, Mr. Benjamin    male  43.0      1   \n",
       "342                         Collander, Mr. Erik Gustaf    male  28.0      0   \n",
       "820  Hays, Mrs. Charles Melville (Clara Jennings Gr...  female  52.0      1   \n",
       "627                      Longley, Miss. Gretchen Fiske  female  21.0      0   \n",
       "265                                  Reeves, Mr. David    male  36.0      0   \n",
       "705     Morley, Mr. Henry Samuel (\"Mr Henry Marshall\")    male  39.0      0   \n",
       "\n",
       "     Parch        Ticket     Fare Cabin Embarked  \n",
       "651      1        231919  23.0000   NaN        S  \n",
       "89       0        343275   8.0500   NaN        S  \n",
       "7        1        349909  21.0750   NaN        S  \n",
       "774      3         29105  23.0000   NaN        S  \n",
       "314      1  F.C.C. 13529  26.2500   NaN        S  \n",
       "342      0        248740  13.0000   NaN        S  \n",
       "820      1         12749  93.5000   B69        S  \n",
       "627      0         13502  77.9583    D9        S  \n",
       "265      0    C.A. 17248  10.5000   NaN        S  \n",
       "705      0        250655  26.0000   NaN        S  "
      ]
     },
     "execution_count": 3,
     "metadata": {},
     "output_type": "execute_result"
    }
   ],
   "source": [
    "data_train.sample(10)"
   ]
  },
  {
   "cell_type": "markdown",
   "metadata": {},
   "source": [
    "**3)** Se pueden usar diferentes tipos de gráficas para visualizar los diferentes datos, y así tener una primera aproximación a la relación entre las características y la supervivencia de cada pasajero."
   ]
  },
  {
   "cell_type": "code",
   "execution_count": 4,
   "metadata": {},
   "outputs": [
    {
     "data": {
      "image/png": "[encoded data removed]",
      "text/plain": [
       "<matplotlib.figure.Figure at 0x61cc4a7da0>"
      ]
     },
     "metadata": {},
     "output_type": "display_data"
    }
   ],
   "source": [
    "sns.barplot(x=\"Sex\", y=\"Survived\", hue=\"Pclass\", data=data_train);"
   ]
  },
  {
   "cell_type": "markdown",
   "metadata": {},
   "source": [
    "**3.1)** En esta gráfica se puede evidenciar que tanto para los hombres como para las mujeres, los de primera clase tuvieron una tasa de supervivencia mayor y esta decrece a medida que la clase aumenta. Como era de esperar, las mujeres tuvieron un indice de supervivencia mayor que los hombres en todas las clases."
   ]
  },
  {
   "cell_type": "code",
   "execution_count": 5,
   "metadata": {},
   "outputs": [
    {
     "data": {
      "image/png": "[encoded data removed]",
      "text/plain": [
       "<matplotlib.figure.Figure at 0x61d14835c0>"
      ]
     },
     "metadata": {},
     "output_type": "display_data"
    }
   ],
   "source": [
    "sns.pointplot(x=\"Embarked\", y=\"Survived\", hue=\"Sex\", data=data_train,\n",
    "              palette={\"male\": \"blue\", \"female\": \"pink\"},\n",
    "              markers=[\"*\", \"o\"], linestyles=[\"-\", \"--\"]);"
   ]
  },
  {
   "cell_type": "markdown",
   "metadata": {},
   "source": [
    "**3.2)** Con esta gráfica se busca definir si hay relación entre el lugar de embarcación y la tasa de supervivencia. Los datos indican que, en general, los que embarcaron en C (Cherbourg) tuvieron mayor promedio de supervivencia."
   ]
  },
  {
   "cell_type": "markdown",
   "metadata": {},
   "source": [
    "## Procesamiento de datos y regularización <a name=\"segundo\"></a>"
   ]
  },
  {
   "cell_type": "markdown",
   "metadata": {},
   "source": [
    "**4)** Se modifican algunas características suministradas para simplificarlas o para organizarlas de manera más efectiva."
   ]
  },
  {
   "cell_type": "markdown",
   "metadata": {},
   "source": [
    "**4.1)** Para las edades se crean grupos dados los rango de edades suministrados:"
   ]
  },
  {
   "cell_type": "code",
   "execution_count": 6,
   "metadata": {
    "collapsed": true
   },
   "outputs": [],
   "source": [
    "def simplify_ages(df):\n",
    "    df.Age = df.Age.fillna(-0.5)\n",
    "    bins = (-1, 0, 5, 12, 18, 25, 35, 60, 120)\n",
    "    group_names = ['Unknown', 'Baby', 'Child', 'Teenager', 'Student', 'Young Adult', 'Adult', 'Senior']\n",
    "    categories = pd.cut(df.Age, bins, labels=group_names)\n",
    "    df.Age = categories\n",
    "    return df\n"
   ]
  },
  {
   "cell_type": "markdown",
   "metadata": {},
   "source": [
    "**4.2)** Para la característica de cabinas se elije únicamente el primer elemento, que corresponde a la letra de la zona en la que se encontraba la cabina y se asume que el número es irrelevante."
   ]
  },
  {
   "cell_type": "code",
   "execution_count": 7,
   "metadata": {
    "collapsed": true
   },
   "outputs": [],
   "source": [
    "def simplify_cabins(df):\n",
    "    df.Cabin = df.Cabin.fillna('N')\n",
    "    df.Cabin = df.Cabin.apply(lambda x: x[0])\n",
    "    return df"
   ]
  },
  {
   "cell_type": "markdown",
   "metadata": {},
   "source": [
    "**4.3)** Para las tarifas que pagó cada persona se hace un análisis etadístico y se agrupan dependiendo el cuartil al que pertenezcan."
   ]
  },
  {
   "cell_type": "code",
   "execution_count": 8,
   "metadata": {
    "collapsed": true
   },
   "outputs": [],
   "source": [
    "def simplify_fares(df):\n",
    "    df.Fare = df.Fare.fillna(-0.5)\n",
    "    bins = (-1, 0, 8, 15, 31, 1000)\n",
    "    group_names = ['Unknown', '1_quartile', '2_quartile', '3_quartile', '4_quartile']\n",
    "    categories = pd.cut(df.Fare, bins, labels=group_names)\n",
    "    df.Fare = categories\n",
    "    return df"
   ]
  },
  {
   "cell_type": "markdown",
   "metadata": {},
   "source": [
    "**4.4)** Para los nombres se va a tener en cuenta únicamente el apellido y el prefijo como (Mr., Mrs., etc.). **En el código original se separaban los atributos según los espacios, pero esto fallaba para apellidos compuestos como Vander Cruyssen, por lo tanto, se implementa este código corregido**."
   ]
  },
  {
   "cell_type": "code",
   "execution_count": 9,
   "metadata": {
    "collapsed": true
   },
   "outputs": [],
   "source": [
    "def format_name(df):\n",
    "    df['Lname'] = df.Name.apply(lambda x: x.split(',')[0])\n",
    "    df['NamePrefix'] = df.Name.apply(lambda x: x.split(',')[1])\n",
    "    df['NamePrefix'] = df.NamePrefix.apply(lambda x: x.split(' ')[1])\n",
    "    return df    "
   ]
  },
  {
   "cell_type": "markdown",
   "metadata": {},
   "source": [
    "**4.5)** Por último se eliminan datos que no se incluiran en el análisis como número de tiquete y nombre. [En el código original se quitaba también el lugar de embarcación, pero dada la gráfica en **3.2)** se decide dejar esta característica]."
   ]
  },
  {
   "cell_type": "code",
   "execution_count": 10,
   "metadata": {
    "collapsed": true
   },
   "outputs": [],
   "source": [
    "def fix_embarked(df):\n",
    "    df.Embarked = df.Embarked.fillna('U')\n",
    "    return df"
   ]
  },
  {
   "cell_type": "code",
   "execution_count": 11,
   "metadata": {
    "collapsed": true
   },
   "outputs": [],
   "source": [
    "def drop_features(df):\n",
    "    return df.drop(['Ticket', 'Name'], axis=1)"
   ]
  },
  {
   "cell_type": "markdown",
   "metadata": {},
   "source": [
    "**5)** Se implementa una función general para realizar todo el manejo de los datos."
   ]
  },
  {
   "cell_type": "code",
   "execution_count": 12,
   "metadata": {
    "collapsed": true
   },
   "outputs": [],
   "source": [
    "def transform_features(df):\n",
    "    df = simplify_ages(df)\n",
    "    df = simplify_cabins(df)\n",
    "    df = fix_embarked(df)\n",
    "    df = simplify_fares(df)\n",
    "    df = format_name(df)\n",
    "    df = drop_features(df)\n",
    "    return df"
   ]
  },
  {
   "cell_type": "code",
   "execution_count": 13,
   "metadata": {},
   "outputs": [
    {
     "data": {
      "text/html": [
       "<div>\n",
       "<style>\n",
       "    .dataframe thead tr:only-child th {\n",
       "        text-align: right;\n",
       "    }\n",
       "\n",
       "    .dataframe thead th {\n",
       "        text-align: left;\n",
       "    }\n",
       "\n",
       "    .dataframe tbody tr th {\n",
       "        vertical-align: top;\n",
       "    }\n",
       "</style>\n",
       "<table border=\"1\" class=\"dataframe\">\n",
       "  <thead>\n",
       "    <tr style=\"text-align: right;\">\n",
       "      <th></th>\n",
       "      <th>PassengerId</th>\n",
       "      <th>Pclass</th>\n",
       "      <th>Sex</th>\n",
       "      <th>Age</th>\n",
       "      <th>SibSp</th>\n",
       "      <th>Parch</th>\n",
       "      <th>Fare</th>\n",
       "      <th>Cabin</th>\n",
       "      <th>Embarked</th>\n",
       "      <th>Lname</th>\n",
       "      <th>NamePrefix</th>\n",
       "    </tr>\n",
       "  </thead>\n",
       "  <tbody>\n",
       "    <tr>\n",
       "      <th>94</th>\n",
       "      <td>986</td>\n",
       "      <td>1</td>\n",
       "      <td>male</td>\n",
       "      <td>Student</td>\n",
       "      <td>0</td>\n",
       "      <td>0</td>\n",
       "      <td>3_quartile</td>\n",
       "      <td>N</td>\n",
       "      <td>C</td>\n",
       "      <td>Birnbaum</td>\n",
       "      <td>Mr.</td>\n",
       "    </tr>\n",
       "    <tr>\n",
       "      <th>54</th>\n",
       "      <td>946</td>\n",
       "      <td>2</td>\n",
       "      <td>male</td>\n",
       "      <td>Unknown</td>\n",
       "      <td>0</td>\n",
       "      <td>0</td>\n",
       "      <td>3_quartile</td>\n",
       "      <td>N</td>\n",
       "      <td>C</td>\n",
       "      <td>Mangiavacchi</td>\n",
       "      <td>Mr.</td>\n",
       "    </tr>\n",
       "    <tr>\n",
       "      <th>210</th>\n",
       "      <td>1102</td>\n",
       "      <td>3</td>\n",
       "      <td>male</td>\n",
       "      <td>Young Adult</td>\n",
       "      <td>0</td>\n",
       "      <td>0</td>\n",
       "      <td>3_quartile</td>\n",
       "      <td>N</td>\n",
       "      <td>S</td>\n",
       "      <td>Andersen</td>\n",
       "      <td>Mr.</td>\n",
       "    </tr>\n",
       "    <tr>\n",
       "      <th>283</th>\n",
       "      <td>1175</td>\n",
       "      <td>3</td>\n",
       "      <td>female</td>\n",
       "      <td>Child</td>\n",
       "      <td>1</td>\n",
       "      <td>1</td>\n",
       "      <td>3_quartile</td>\n",
       "      <td>N</td>\n",
       "      <td>C</td>\n",
       "      <td>Touma</td>\n",
       "      <td>Miss.</td>\n",
       "    </tr>\n",
       "    <tr>\n",
       "      <th>111</th>\n",
       "      <td>1003</td>\n",
       "      <td>3</td>\n",
       "      <td>female</td>\n",
       "      <td>Unknown</td>\n",
       "      <td>0</td>\n",
       "      <td>0</td>\n",
       "      <td>1_quartile</td>\n",
       "      <td>N</td>\n",
       "      <td>Q</td>\n",
       "      <td>Shine</td>\n",
       "      <td>Miss.</td>\n",
       "    </tr>\n",
       "  </tbody>\n",
       "</table>\n",
       "</div>"
      ],
      "text/plain": [
       "     PassengerId  Pclass     Sex          Age  SibSp  Parch        Fare Cabin  \\\n",
       "94           986       1    male      Student      0      0  3_quartile     N   \n",
       "54           946       2    male      Unknown      0      0  3_quartile     N   \n",
       "210         1102       3    male  Young Adult      0      0  3_quartile     N   \n",
       "283         1175       3  female        Child      1      1  3_quartile     N   \n",
       "111         1003       3  female      Unknown      0      0  1_quartile     N   \n",
       "\n",
       "    Embarked         Lname NamePrefix  \n",
       "94         C      Birnbaum        Mr.  \n",
       "54         C  Mangiavacchi        Mr.  \n",
       "210        S      Andersen        Mr.  \n",
       "283        C         Touma      Miss.  \n",
       "111        Q         Shine      Miss.  "
      ]
     },
     "execution_count": 13,
     "metadata": {},
     "output_type": "execute_result"
    }
   ],
   "source": [
    "data_train = transform_features(data_train)\n",
    "data_test = transform_features(data_test)\n",
    "data_test.sample(5)"
   ]
  },
  {
   "cell_type": "markdown",
   "metadata": {},
   "source": [
    "**6)** Se muestran los resultados de la simplificación en las siguientes gráficas."
   ]
  },
  {
   "cell_type": "code",
   "execution_count": 14,
   "metadata": {},
   "outputs": [
    {
     "data": {
      "image/png": "[encoded data removed]",
      "text/plain": [
       "<matplotlib.figure.Figure at 0x61d158b2e8>"
      ]
     },
     "metadata": {},
     "output_type": "display_data"
    }
   ],
   "source": [
    "sns.barplot(x=\"Age\", y=\"Survived\", hue=\"Sex\", data=data_train)\n",
    "plt.tight_layout();"
   ]
  },
  {
   "cell_type": "markdown",
   "metadata": {
    "collapsed": true
   },
   "source": [
    "**6.1)** En la gráfica de rango de edad contra el promedio de supervivencia, el primer elemento relevante es que todas las mujeres mayores de 60 años sobrevivieron y, en general, las mujeres presentan un mayor promedio de supervivencia, excepto para las niñas (child, en el rango entre 5-12 años)."
   ]
  },
  {
   "cell_type": "code",
   "execution_count": 15,
   "metadata": {},
   "outputs": [
    {
     "data": {
      "image/png": "[encoded data removed]",
      "text/plain": [
       "<matplotlib.figure.Figure at 0x61d19aae48>"
      ]
     },
     "metadata": {},
     "output_type": "display_data"
    }
   ],
   "source": [
    "sns.barplot(x=\"Cabin\", y=\"Survived\", hue=\"Sex\", data=data_train);"
   ]
  },
  {
   "cell_type": "markdown",
   "metadata": {},
   "source": [
    "**6.2)** Para los datos de la cabina ocupada, todas las mujeres en las cabinas D,A,B, y F sobrevivieron puede ser por dos razones, la primera es que fueran mujeres pertenecientes a la primera clase y se les otorgara algún tipo de prioridad o la segunda es que hayan estado más cerca a los botes salvavidas. "
   ]
  },
  {
   "cell_type": "code",
   "execution_count": 16,
   "metadata": {},
   "outputs": [
    {
     "data": {
      "image/png": "[encoded data removed]",
      "text/plain": [
       "<matplotlib.figure.Figure at 0x61d1444f60>"
      ]
     },
     "metadata": {},
     "output_type": "display_data"
    }
   ],
   "source": [
    "sns.barplot(x=\"Fare\", y=\"Survived\", hue=\"Sex\", data=data_train);"
   ]
  },
  {
   "cell_type": "markdown",
   "metadata": {},
   "source": [
    "**6.3)** En esta gráfica de tarifa contra tasa de supervivencia se hace más evidente la relación entre el precio pagado (relacionado con la clase) y  la supervivencia de los pasajeros, especialemente en los hombres, que a medida que aumenta la tarifa la tasa de supervivencia aumenta. Para los casos desconocidos se asume que son personas que se colaron, razón por la cual era muy poco probable que recibieran un cupo en los botes salvavidas."
   ]
  },
  {
   "cell_type": "code",
   "execution_count": 17,
   "metadata": {},
   "outputs": [
    {
     "data": {
      "image/png": "[encoded data removed]",
      "text/plain": [
       "<matplotlib.figure.Figure at 0x61d1532828>"
      ]
     },
     "metadata": {},
     "output_type": "display_data"
    }
   ],
   "source": [
    "sns.barplot(x=\"Embarked\", y=\"Survived\", hue=\"Sex\", data=data_train);"
   ]
  },
  {
   "cell_type": "markdown",
   "metadata": {},
   "source": [
    "**6.4)** En la gráfica de lugar de embarcación contra supervivencia, se puede ver que los promedios más altos se encuentran para aquellas personas que embarcaron en C (Cherbourg, Francia) por lo tanto, a diferencia del código original, se decide incluir esta característica en el análisis."
   ]
  },
  {
   "cell_type": "markdown",
   "metadata": {},
   "source": [
    "**7)** Una forma de regularizar los datos es empleando el módulo de codificación de etiquetas del paquete de scikit-learn, que otorga valores numéricos a las categorias creadas anteriormente."
   ]
  },
  {
   "cell_type": "code",
   "execution_count": 18,
   "metadata": {
    "collapsed": true
   },
   "outputs": [],
   "source": [
    "def encode_features(df_train, df_test):\n",
    "    features = ['Fare', 'Age', 'Cabin', 'Sex', 'Lname', 'NamePrefix', 'Embarked']\n",
    "    df_combined = pd.concat([df_train[features], df_test[features]])\n",
    "    \n",
    "    for feature in features:\n",
    "        le = preprocessing.LabelEncoder()\n",
    "        le = le.fit(df_combined[feature])\n",
    "        df_train[feature] = le.transform(df_train[feature])\n",
    "        df_test[feature] = le.transform(df_test[feature])\n",
    "    return df_train, df_test"
   ]
  },
  {
   "cell_type": "code",
   "execution_count": 19,
   "metadata": {},
   "outputs": [
    {
     "data": {
      "text/html": [
       "<div>\n",
       "<style>\n",
       "    .dataframe thead tr:only-child th {\n",
       "        text-align: right;\n",
       "    }\n",
       "\n",
       "    .dataframe thead th {\n",
       "        text-align: left;\n",
       "    }\n",
       "\n",
       "    .dataframe tbody tr th {\n",
       "        vertical-align: top;\n",
       "    }\n",
       "</style>\n",
       "<table border=\"1\" class=\"dataframe\">\n",
       "  <thead>\n",
       "    <tr style=\"text-align: right;\">\n",
       "      <th></th>\n",
       "      <th>PassengerId</th>\n",
       "      <th>Survived</th>\n",
       "      <th>Pclass</th>\n",
       "      <th>Sex</th>\n",
       "      <th>Age</th>\n",
       "      <th>SibSp</th>\n",
       "      <th>Parch</th>\n",
       "      <th>Fare</th>\n",
       "      <th>Cabin</th>\n",
       "      <th>Embarked</th>\n",
       "      <th>Lname</th>\n",
       "      <th>NamePrefix</th>\n",
       "    </tr>\n",
       "  </thead>\n",
       "  <tbody>\n",
       "    <tr>\n",
       "      <th>0</th>\n",
       "      <td>1</td>\n",
       "      <td>0</td>\n",
       "      <td>3</td>\n",
       "      <td>1</td>\n",
       "      <td>4</td>\n",
       "      <td>1</td>\n",
       "      <td>0</td>\n",
       "      <td>0</td>\n",
       "      <td>7</td>\n",
       "      <td>2</td>\n",
       "      <td>100</td>\n",
       "      <td>12</td>\n",
       "    </tr>\n",
       "    <tr>\n",
       "      <th>1</th>\n",
       "      <td>2</td>\n",
       "      <td>1</td>\n",
       "      <td>1</td>\n",
       "      <td>0</td>\n",
       "      <td>0</td>\n",
       "      <td>1</td>\n",
       "      <td>0</td>\n",
       "      <td>3</td>\n",
       "      <td>2</td>\n",
       "      <td>0</td>\n",
       "      <td>182</td>\n",
       "      <td>13</td>\n",
       "    </tr>\n",
       "    <tr>\n",
       "      <th>2</th>\n",
       "      <td>3</td>\n",
       "      <td>1</td>\n",
       "      <td>3</td>\n",
       "      <td>0</td>\n",
       "      <td>7</td>\n",
       "      <td>0</td>\n",
       "      <td>0</td>\n",
       "      <td>0</td>\n",
       "      <td>7</td>\n",
       "      <td>2</td>\n",
       "      <td>329</td>\n",
       "      <td>9</td>\n",
       "    </tr>\n",
       "    <tr>\n",
       "      <th>3</th>\n",
       "      <td>4</td>\n",
       "      <td>1</td>\n",
       "      <td>1</td>\n",
       "      <td>0</td>\n",
       "      <td>7</td>\n",
       "      <td>1</td>\n",
       "      <td>0</td>\n",
       "      <td>3</td>\n",
       "      <td>2</td>\n",
       "      <td>2</td>\n",
       "      <td>267</td>\n",
       "      <td>13</td>\n",
       "    </tr>\n",
       "    <tr>\n",
       "      <th>4</th>\n",
       "      <td>5</td>\n",
       "      <td>0</td>\n",
       "      <td>3</td>\n",
       "      <td>1</td>\n",
       "      <td>7</td>\n",
       "      <td>0</td>\n",
       "      <td>0</td>\n",
       "      <td>1</td>\n",
       "      <td>7</td>\n",
       "      <td>2</td>\n",
       "      <td>15</td>\n",
       "      <td>12</td>\n",
       "    </tr>\n",
       "  </tbody>\n",
       "</table>\n",
       "</div>"
      ],
      "text/plain": [
       "   PassengerId  Survived  Pclass  Sex  Age  SibSp  Parch  Fare  Cabin  \\\n",
       "0            1         0       3    1    4      1      0     0      7   \n",
       "1            2         1       1    0    0      1      0     3      2   \n",
       "2            3         1       3    0    7      0      0     0      7   \n",
       "3            4         1       1    0    7      1      0     3      2   \n",
       "4            5         0       3    1    7      0      0     1      7   \n",
       "\n",
       "   Embarked  Lname  NamePrefix  \n",
       "0         2    100          12  \n",
       "1         0    182          13  \n",
       "2         2    329           9  \n",
       "3         2    267          13  \n",
       "4         2     15          12  "
      ]
     },
     "execution_count": 19,
     "metadata": {},
     "output_type": "execute_result"
    }
   ],
   "source": [
    "data_train, data_test = encode_features(data_train, data_test)\n",
    "data_train.head()"
   ]
  },
  {
   "cell_type": "markdown",
   "metadata": {},
   "source": [
    "**8)** Debido a que los datos de prueba (test) no contienen un valor de supervivencia para poder verificar la precisión del modelo, se realiza una partición de los datos de entrenamiento de tal forma que el entrenamiento del modelo se realizará sobre el 80% de estos, mientras que el 20% restante se usarán para medir la precisión del mismo."
   ]
  },
  {
   "cell_type": "code",
   "execution_count": 20,
   "metadata": {
    "collapsed": true
   },
   "outputs": [],
   "source": [
    "X_all = data_train.drop(['Survived', 'PassengerId'], axis=1)\n",
    "y_all = data_train['Survived']\n",
    "num_test = 0.20\n",
    "X_train, X_test, y_train, y_test = train_test_split(X_all, y_all, test_size=num_test)"
   ]
  },
  {
   "cell_type": "markdown",
   "metadata": {},
   "source": [
    "## Implementación de modelos y análisis de precisión <a name=\"tercero\"></a>"
   ]
  },
  {
   "cell_type": "markdown",
   "metadata": {},
   "source": [
    "**9)** El primer clasificador a usar será Random Forest Classifier, el cual funciona diseñando un conjunto de árboles de decisión para encontrar cómo influyen las características en el resultado final. En este caso, implica que una \"hoja\" define la supervivencia del pasajero.\n",
    "Entre los parámetros principales están:\n",
    "- n_estimators, que define el número de árboles en el bosque.\n",
    "- max_features, que define el máximo número de características a emplear.\n",
    "- criterion, que define el método de creación de los árboles (gini, por default, o entropy).\n",
    "- max_depth, que define la profundidad del árbol.\n",
    "- min_samples_split, que define el mínimo número de muestras requerido para dividir un nodo interior.\n",
    "- min_samples_leaf, que es el mínimo número de muestras requeridos en una hoja.\n"
   ]
  },
  {
   "cell_type": "code",
   "execution_count": 21,
   "metadata": {},
   "outputs": [
    {
     "data": {
      "text/plain": [
       "RandomForestClassifier(bootstrap=True, class_weight=None, criterion='gini',\n",
       "            max_depth=12, max_features='sqrt', max_leaf_nodes=None,\n",
       "            min_impurity_decrease=0.0, min_impurity_split=None,\n",
       "            min_samples_leaf=1, min_samples_split=7,\n",
       "            min_weight_fraction_leaf=0.0, n_estimators=8, n_jobs=1,\n",
       "            oob_score=False, random_state=None, verbose=0,\n",
       "            warm_start=False)"
      ]
     },
     "execution_count": 21,
     "metadata": {},
     "output_type": "execute_result"
    }
   ],
   "source": [
    "# Choose the type of classifier. \n",
    "clf = RandomForestClassifier()\n",
    "\n",
    "# Choose some parameter combinations to try\n",
    "parameters = {'n_estimators': [7, 8, 10], \n",
    "              'max_features': ['log2', 'sqrt','auto'], \n",
    "              'criterion': ['entropy', 'gini'],\n",
    "              'max_depth': [11, 12, 13, 14], \n",
    "              'min_samples_split': [6, 7, 8],\n",
    "              'min_samples_leaf': [1,5,8]\n",
    "             }\n",
    "\n",
    "# Type of scoring used to compare parameter combinations\n",
    "acc_scorer = make_scorer(accuracy_score)\n",
    "\n",
    "# Run the grid search\n",
    "grid_obj = GridSearchCV(clf, parameters, scoring=acc_scorer)\n",
    "grid_obj = grid_obj.fit(X_train, y_train)\n",
    "\n",
    "# Set the clf to the best combination of parameters\n",
    "clf = grid_obj.best_estimator_\n",
    "\n",
    "# Fit the best algorithm to the data. \n",
    "clf.fit(X_train, y_train)"
   ]
  },
  {
   "cell_type": "markdown",
   "metadata": {},
   "source": [
    "**10)** Una vez se ha ajustado el modelo a los datos, se procede a realizar la predicción, para luego verificar la precisión del resultado, en comparación con el 20% de los datos ya mencionados."
   ]
  },
  {
   "cell_type": "code",
   "execution_count": 22,
   "metadata": {},
   "outputs": [
    {
     "name": "stdout",
     "output_type": "stream",
     "text": [
      "0.804469273743\n"
     ]
    }
   ],
   "source": [
    "RFpredictions = clf.predict(X_test)\n",
    "print(accuracy_score(y_test, RFpredictions))"
   ]
  },
  {
   "cell_type": "markdown",
   "metadata": {},
   "source": [
    "**11)** Ahora, se probarán diferentes modelos para comparar y obtener una mejor precisión. Para cada método se dejan los parámetros que por default se tienen, a diferencia del procedimiento recién realizado."
   ]
  },
  {
   "cell_type": "code",
   "execution_count": 23,
   "metadata": {},
   "outputs": [
    {
     "data": {
      "image/png": "[encoded data removed]",
      "text/plain": [
       "<matplotlib.figure.Figure at 0x61d1d0e748>"
      ]
     },
     "metadata": {},
     "output_type": "display_data"
    }
   ],
   "source": [
    "#Clasificadores a usar\n",
    "classifiers = [\n",
    "    KNeighborsClassifier(3),\n",
    "    SVC(probability=True),\n",
    "    DecisionTreeClassifier(),\n",
    "    RandomForestClassifier(),\n",
    "    AdaBoostClassifier(),\n",
    "    GradientBoostingClassifier(),\n",
    "    GaussianNB(),\n",
    "    LinearDiscriminantAnalysis(),\n",
    "    QuadraticDiscriminantAnalysis(),\n",
    "    LogisticRegression()]\n",
    "\n",
    "log_cols = [\"Classifier\", \"Accuracy\"]\n",
    "log1  = pd.DataFrame(columns=log_cols)\n",
    "\n",
    "acc_dict1 = {}\n",
    "\n",
    "\n",
    "#Se realiza ajuste y predicción para cada método\n",
    "for clf in classifiers:\n",
    "    name = clf.__class__.__name__\n",
    "    clf.fit(X_train, y_train)\n",
    "    train_predictions = clf.predict(X_test)\n",
    "    acc = accuracy_score(y_test, train_predictions)\n",
    "    if name in acc_dict1:\n",
    "        acc_dict1[name] += acc\n",
    "    else:\n",
    "        acc_dict1[name] = acc\n",
    "\n",
    "# Graficación de resultados        \n",
    "for clf in acc_dict1:\n",
    "    acc_dict1[clf] = acc_dict1[clf]*100\n",
    "    log_entry = pd.DataFrame([[clf, acc_dict1[clf]]], columns=log_cols)\n",
    "    log1 = log1.append(log_entry)\n",
    "\n",
    "plt.xlabel('Accuracy')\n",
    "plt.title('Classifier Accuracy')\n",
    "\n",
    "sns.set_color_codes(\"muted\")\n",
    "sns.barplot(x='Accuracy', y='Classifier', data=log1, color=\"b\");"
   ]
  },
  {
   "cell_type": "code",
   "execution_count": 24,
   "metadata": {},
   "outputs": [
    {
     "data": {
      "text/html": [
       "<div>\n",
       "<style>\n",
       "    .dataframe thead tr:only-child th {\n",
       "        text-align: right;\n",
       "    }\n",
       "\n",
       "    .dataframe thead th {\n",
       "        text-align: left;\n",
       "    }\n",
       "\n",
       "    .dataframe tbody tr th {\n",
       "        vertical-align: top;\n",
       "    }\n",
       "</style>\n",
       "<table border=\"1\" class=\"dataframe\">\n",
       "  <thead>\n",
       "    <tr style=\"text-align: right;\">\n",
       "      <th></th>\n",
       "      <th>Classifier</th>\n",
       "      <th>Accuracy</th>\n",
       "    </tr>\n",
       "  </thead>\n",
       "  <tbody>\n",
       "    <tr>\n",
       "      <th>0</th>\n",
       "      <td>KNeighborsClassifier</td>\n",
       "      <td>55.307263</td>\n",
       "    </tr>\n",
       "    <tr>\n",
       "      <th>0</th>\n",
       "      <td>SVC</td>\n",
       "      <td>56.424581</td>\n",
       "    </tr>\n",
       "    <tr>\n",
       "      <th>0</th>\n",
       "      <td>DecisionTreeClassifier</td>\n",
       "      <td>72.625698</td>\n",
       "    </tr>\n",
       "    <tr>\n",
       "      <th>0</th>\n",
       "      <td>RandomForestClassifier</td>\n",
       "      <td>80.446927</td>\n",
       "    </tr>\n",
       "    <tr>\n",
       "      <th>0</th>\n",
       "      <td>AdaBoostClassifier</td>\n",
       "      <td>78.212291</td>\n",
       "    </tr>\n",
       "    <tr>\n",
       "      <th>0</th>\n",
       "      <td>GradientBoostingClassifier</td>\n",
       "      <td>81.005587</td>\n",
       "    </tr>\n",
       "    <tr>\n",
       "      <th>0</th>\n",
       "      <td>GaussianNB</td>\n",
       "      <td>74.301676</td>\n",
       "    </tr>\n",
       "    <tr>\n",
       "      <th>0</th>\n",
       "      <td>LinearDiscriminantAnalysis</td>\n",
       "      <td>75.977654</td>\n",
       "    </tr>\n",
       "    <tr>\n",
       "      <th>0</th>\n",
       "      <td>QuadraticDiscriminantAnalysis</td>\n",
       "      <td>74.860335</td>\n",
       "    </tr>\n",
       "    <tr>\n",
       "      <th>0</th>\n",
       "      <td>LogisticRegression</td>\n",
       "      <td>75.977654</td>\n",
       "    </tr>\n",
       "  </tbody>\n",
       "</table>\n",
       "</div>"
      ],
      "text/plain": [
       "                      Classifier   Accuracy\n",
       "0           KNeighborsClassifier  55.307263\n",
       "0                            SVC  56.424581\n",
       "0         DecisionTreeClassifier  72.625698\n",
       "0         RandomForestClassifier  80.446927\n",
       "0             AdaBoostClassifier  78.212291\n",
       "0     GradientBoostingClassifier  81.005587\n",
       "0                     GaussianNB  74.301676\n",
       "0     LinearDiscriminantAnalysis  75.977654\n",
       "0  QuadraticDiscriminantAnalysis  74.860335\n",
       "0             LogisticRegression  75.977654"
      ]
     },
     "execution_count": 24,
     "metadata": {},
     "output_type": "execute_result"
    }
   ],
   "source": [
    "log1"
   ]
  },
  {
   "cell_type": "markdown",
   "metadata": {},
   "source": [
    "**11.1)** Como se puede ver en la gráfica y en la tabla que resume los resultados de cada método se determina que los tres parametros con mayor índice de precisión son, de mayor a menor: **1. Gradient Boost Classifier** , **2. Decision Tree Classifier** , **3. Random Forest Classifier**"
   ]
  },
  {
   "cell_type": "markdown",
   "metadata": {},
   "source": [
    "**12)** Ahora, si se desea aumentar la precisión del modelo, se requiere reevaluar el preprocesamiento de la información. Para esto, se tomó como referencia el [código de Manav Sehgal](https://www.kaggle.com/startupsci/titanic-data-science-solutions), que considera importante el hecho estar o no con familiares a bordo."
   ]
  },
  {
   "cell_type": "code",
   "execution_count": 25,
   "metadata": {
    "collapsed": true
   },
   "outputs": [],
   "source": [
    "def simplify_family(df):\n",
    "    df['FamSize']=df['SibSp']+df['Parch']+1\n",
    "    df['IsAlone']=0\n",
    "    df.loc[df['FamSize']==1,'IsAlone']=1\n",
    "    return df"
   ]
  },
  {
   "cell_type": "code",
   "execution_count": 26,
   "metadata": {},
   "outputs": [
    {
     "data": {
      "text/html": [
       "<div>\n",
       "<style>\n",
       "    .dataframe thead tr:only-child th {\n",
       "        text-align: right;\n",
       "    }\n",
       "\n",
       "    .dataframe thead th {\n",
       "        text-align: left;\n",
       "    }\n",
       "\n",
       "    .dataframe tbody tr th {\n",
       "        vertical-align: top;\n",
       "    }\n",
       "</style>\n",
       "<table border=\"1\" class=\"dataframe\">\n",
       "  <thead>\n",
       "    <tr style=\"text-align: right;\">\n",
       "      <th></th>\n",
       "      <th>PassengerId</th>\n",
       "      <th>Survived</th>\n",
       "      <th>Pclass</th>\n",
       "      <th>Sex</th>\n",
       "      <th>Age</th>\n",
       "      <th>SibSp</th>\n",
       "      <th>Parch</th>\n",
       "      <th>Fare</th>\n",
       "      <th>Cabin</th>\n",
       "      <th>Embarked</th>\n",
       "      <th>Lname</th>\n",
       "      <th>NamePrefix</th>\n",
       "      <th>FamSize</th>\n",
       "      <th>IsAlone</th>\n",
       "    </tr>\n",
       "  </thead>\n",
       "  <tbody>\n",
       "    <tr>\n",
       "      <th>0</th>\n",
       "      <td>1</td>\n",
       "      <td>0</td>\n",
       "      <td>3</td>\n",
       "      <td>1</td>\n",
       "      <td>4</td>\n",
       "      <td>1</td>\n",
       "      <td>0</td>\n",
       "      <td>0</td>\n",
       "      <td>7</td>\n",
       "      <td>2</td>\n",
       "      <td>100</td>\n",
       "      <td>12</td>\n",
       "      <td>2</td>\n",
       "      <td>0</td>\n",
       "    </tr>\n",
       "    <tr>\n",
       "      <th>1</th>\n",
       "      <td>2</td>\n",
       "      <td>1</td>\n",
       "      <td>1</td>\n",
       "      <td>0</td>\n",
       "      <td>0</td>\n",
       "      <td>1</td>\n",
       "      <td>0</td>\n",
       "      <td>3</td>\n",
       "      <td>2</td>\n",
       "      <td>0</td>\n",
       "      <td>182</td>\n",
       "      <td>13</td>\n",
       "      <td>2</td>\n",
       "      <td>0</td>\n",
       "    </tr>\n",
       "    <tr>\n",
       "      <th>2</th>\n",
       "      <td>3</td>\n",
       "      <td>1</td>\n",
       "      <td>3</td>\n",
       "      <td>0</td>\n",
       "      <td>7</td>\n",
       "      <td>0</td>\n",
       "      <td>0</td>\n",
       "      <td>0</td>\n",
       "      <td>7</td>\n",
       "      <td>2</td>\n",
       "      <td>329</td>\n",
       "      <td>9</td>\n",
       "      <td>1</td>\n",
       "      <td>1</td>\n",
       "    </tr>\n",
       "    <tr>\n",
       "      <th>3</th>\n",
       "      <td>4</td>\n",
       "      <td>1</td>\n",
       "      <td>1</td>\n",
       "      <td>0</td>\n",
       "      <td>7</td>\n",
       "      <td>1</td>\n",
       "      <td>0</td>\n",
       "      <td>3</td>\n",
       "      <td>2</td>\n",
       "      <td>2</td>\n",
       "      <td>267</td>\n",
       "      <td>13</td>\n",
       "      <td>2</td>\n",
       "      <td>0</td>\n",
       "    </tr>\n",
       "    <tr>\n",
       "      <th>4</th>\n",
       "      <td>5</td>\n",
       "      <td>0</td>\n",
       "      <td>3</td>\n",
       "      <td>1</td>\n",
       "      <td>7</td>\n",
       "      <td>0</td>\n",
       "      <td>0</td>\n",
       "      <td>1</td>\n",
       "      <td>7</td>\n",
       "      <td>2</td>\n",
       "      <td>15</td>\n",
       "      <td>12</td>\n",
       "      <td>1</td>\n",
       "      <td>1</td>\n",
       "    </tr>\n",
       "  </tbody>\n",
       "</table>\n",
       "</div>"
      ],
      "text/plain": [
       "   PassengerId  Survived  Pclass  Sex  Age  SibSp  Parch  Fare  Cabin  \\\n",
       "0            1         0       3    1    4      1      0     0      7   \n",
       "1            2         1       1    0    0      1      0     3      2   \n",
       "2            3         1       3    0    7      0      0     0      7   \n",
       "3            4         1       1    0    7      1      0     3      2   \n",
       "4            5         0       3    1    7      0      0     1      7   \n",
       "\n",
       "   Embarked  Lname  NamePrefix  FamSize  IsAlone  \n",
       "0         2    100          12        2        0  \n",
       "1         0    182          13        2        0  \n",
       "2         2    329           9        1        1  \n",
       "3         2    267          13        2        0  \n",
       "4         2     15          12        1        1  "
      ]
     },
     "execution_count": 26,
     "metadata": {},
     "output_type": "execute_result"
    }
   ],
   "source": [
    "simplify_family(data_train)\n",
    "data_train.head()"
   ]
  },
  {
   "cell_type": "code",
   "execution_count": 27,
   "metadata": {},
   "outputs": [
    {
     "data": {
      "image/png": "[encoded data removed]",
      "text/plain": [
       "<matplotlib.figure.Figure at 0x61c7906400>"
      ]
     },
     "metadata": {},
     "output_type": "display_data"
    }
   ],
   "source": [
    "sns.barplot(x=\"IsAlone\", y=\"Survived\", data=data_train);"
   ]
  },
  {
   "cell_type": "markdown",
   "metadata": {},
   "source": [
    "**12.1)** Para aseguranos de que este nuevo elemento fuera relevante quisimos graficar la relación entre el hecho de que el pasajero viajara solo y la tasa de supervivencia. En esta gráfica podemos obesvar que la tasa de supervivecia de aquellos que viajaban acompañados fue mayor."
   ]
  },
  {
   "cell_type": "code",
   "execution_count": 28,
   "metadata": {
    "collapsed": true
   },
   "outputs": [],
   "source": [
    "def drop_features2(df): \n",
    "    return df.drop(['SibSp', 'Parch','FamSize'], axis=1)"
   ]
  },
  {
   "cell_type": "code",
   "execution_count": 29,
   "metadata": {},
   "outputs": [
    {
     "data": {
      "text/html": [
       "<div>\n",
       "<style>\n",
       "    .dataframe thead tr:only-child th {\n",
       "        text-align: right;\n",
       "    }\n",
       "\n",
       "    .dataframe thead th {\n",
       "        text-align: left;\n",
       "    }\n",
       "\n",
       "    .dataframe tbody tr th {\n",
       "        vertical-align: top;\n",
       "    }\n",
       "</style>\n",
       "<table border=\"1\" class=\"dataframe\">\n",
       "  <thead>\n",
       "    <tr style=\"text-align: right;\">\n",
       "      <th></th>\n",
       "      <th>PassengerId</th>\n",
       "      <th>Survived</th>\n",
       "      <th>Pclass</th>\n",
       "      <th>Sex</th>\n",
       "      <th>Age</th>\n",
       "      <th>Fare</th>\n",
       "      <th>Cabin</th>\n",
       "      <th>Embarked</th>\n",
       "      <th>Lname</th>\n",
       "      <th>NamePrefix</th>\n",
       "      <th>IsAlone</th>\n",
       "    </tr>\n",
       "  </thead>\n",
       "  <tbody>\n",
       "    <tr>\n",
       "      <th>0</th>\n",
       "      <td>1</td>\n",
       "      <td>0</td>\n",
       "      <td>3</td>\n",
       "      <td>1</td>\n",
       "      <td>4</td>\n",
       "      <td>0</td>\n",
       "      <td>7</td>\n",
       "      <td>2</td>\n",
       "      <td>100</td>\n",
       "      <td>12</td>\n",
       "      <td>0</td>\n",
       "    </tr>\n",
       "    <tr>\n",
       "      <th>1</th>\n",
       "      <td>2</td>\n",
       "      <td>1</td>\n",
       "      <td>1</td>\n",
       "      <td>0</td>\n",
       "      <td>0</td>\n",
       "      <td>3</td>\n",
       "      <td>2</td>\n",
       "      <td>0</td>\n",
       "      <td>182</td>\n",
       "      <td>13</td>\n",
       "      <td>0</td>\n",
       "    </tr>\n",
       "    <tr>\n",
       "      <th>2</th>\n",
       "      <td>3</td>\n",
       "      <td>1</td>\n",
       "      <td>3</td>\n",
       "      <td>0</td>\n",
       "      <td>7</td>\n",
       "      <td>0</td>\n",
       "      <td>7</td>\n",
       "      <td>2</td>\n",
       "      <td>329</td>\n",
       "      <td>9</td>\n",
       "      <td>1</td>\n",
       "    </tr>\n",
       "    <tr>\n",
       "      <th>3</th>\n",
       "      <td>4</td>\n",
       "      <td>1</td>\n",
       "      <td>1</td>\n",
       "      <td>0</td>\n",
       "      <td>7</td>\n",
       "      <td>3</td>\n",
       "      <td>2</td>\n",
       "      <td>2</td>\n",
       "      <td>267</td>\n",
       "      <td>13</td>\n",
       "      <td>0</td>\n",
       "    </tr>\n",
       "    <tr>\n",
       "      <th>4</th>\n",
       "      <td>5</td>\n",
       "      <td>0</td>\n",
       "      <td>3</td>\n",
       "      <td>1</td>\n",
       "      <td>7</td>\n",
       "      <td>1</td>\n",
       "      <td>7</td>\n",
       "      <td>2</td>\n",
       "      <td>15</td>\n",
       "      <td>12</td>\n",
       "      <td>1</td>\n",
       "    </tr>\n",
       "  </tbody>\n",
       "</table>\n",
       "</div>"
      ],
      "text/plain": [
       "   PassengerId  Survived  Pclass  Sex  Age  Fare  Cabin  Embarked  Lname  \\\n",
       "0            1         0       3    1    4     0      7         2    100   \n",
       "1            2         1       1    0    0     3      2         0    182   \n",
       "2            3         1       3    0    7     0      7         2    329   \n",
       "3            4         1       1    0    7     3      2         2    267   \n",
       "4            5         0       3    1    7     1      7         2     15   \n",
       "\n",
       "   NamePrefix  IsAlone  \n",
       "0          12        0  \n",
       "1          13        0  \n",
       "2           9        1  \n",
       "3          13        0  \n",
       "4          12        1  "
      ]
     },
     "execution_count": 29,
     "metadata": {},
     "output_type": "execute_result"
    }
   ],
   "source": [
    "data_train2 = drop_features2(data_train)\n",
    "data_train2.head()"
   ]
  },
  {
   "cell_type": "code",
   "execution_count": 30,
   "metadata": {
    "collapsed": true
   },
   "outputs": [],
   "source": [
    "X_all2 = data_train2.drop(['Survived', 'PassengerId'], axis=1)\n",
    "y_all2 = data_train2['Survived']\n",
    "num_test = 0.20\n",
    "X_train2, X_test2, y_train2, y_test2 = train_test_split(X_all2, y_all2, test_size=num_test)"
   ]
  },
  {
   "cell_type": "markdown",
   "metadata": {},
   "source": [
    "**13)** Una vez se han modificado los datos se vuelve a crear el modelo para evaluar si mejoró en algo el resultado"
   ]
  },
  {
   "cell_type": "code",
   "execution_count": 31,
   "metadata": {},
   "outputs": [
    {
     "data": {
      "image/png": "[encoded data removed]",
      "text/plain": [
       "<matplotlib.figure.Figure at 0x61d1d0e2b0>"
      ]
     },
     "metadata": {},
     "output_type": "display_data"
    }
   ],
   "source": [
    "log_cols = [\"Classifier\", \"Accuracy\"]\n",
    "log2  = pd.DataFrame(columns=log_cols)\n",
    "\n",
    "acc_dict2 = {}\n",
    "\n",
    "\n",
    "#Se realiza ajuste y predicción para cada método\n",
    "for clf in classifiers:\n",
    "    name = clf.__class__.__name__\n",
    "    clf.fit(X_train2, y_train2)\n",
    "    train_predictions2 = clf.predict(X_test2)\n",
    "    acc = accuracy_score(y_test2, train_predictions2)\n",
    "    if name in acc_dict2:\n",
    "        acc_dict2[name] += acc\n",
    "    else:\n",
    "        acc_dict2[name] = acc\n",
    "    \n",
    "   \n",
    "# Graficación de resultados        \n",
    "for clf in acc_dict2:\n",
    "    acc_dict2[clf] = acc_dict2[clf]*100\n",
    "    log_entry = pd.DataFrame([[clf, acc_dict2[clf]]], columns=log_cols)\n",
    "    log2 = log2.append(log_entry)\n",
    "\n",
    "plt.xlabel('Accuracy')\n",
    "plt.title('Classifier Accuracy')\n",
    "\n",
    "sns.set_color_codes(\"muted\")\n",
    "sns.barplot(x='Accuracy', y='Classifier', data=log2, color=\"b\");"
   ]
  },
  {
   "cell_type": "code",
   "execution_count": 32,
   "metadata": {},
   "outputs": [
    {
     "data": {
      "text/html": [
       "<div>\n",
       "<style>\n",
       "    .dataframe thead tr:only-child th {\n",
       "        text-align: right;\n",
       "    }\n",
       "\n",
       "    .dataframe thead th {\n",
       "        text-align: left;\n",
       "    }\n",
       "\n",
       "    .dataframe tbody tr th {\n",
       "        vertical-align: top;\n",
       "    }\n",
       "</style>\n",
       "<table border=\"1\" class=\"dataframe\">\n",
       "  <thead>\n",
       "    <tr style=\"text-align: right;\">\n",
       "      <th></th>\n",
       "      <th>Classifier</th>\n",
       "      <th>Accuracy</th>\n",
       "    </tr>\n",
       "  </thead>\n",
       "  <tbody>\n",
       "    <tr>\n",
       "      <th>0</th>\n",
       "      <td>KNeighborsClassifier</td>\n",
       "      <td>62.011173</td>\n",
       "    </tr>\n",
       "    <tr>\n",
       "      <th>0</th>\n",
       "      <td>SVC</td>\n",
       "      <td>63.687151</td>\n",
       "    </tr>\n",
       "    <tr>\n",
       "      <th>0</th>\n",
       "      <td>DecisionTreeClassifier</td>\n",
       "      <td>73.184358</td>\n",
       "    </tr>\n",
       "    <tr>\n",
       "      <th>0</th>\n",
       "      <td>RandomForestClassifier</td>\n",
       "      <td>83.240223</td>\n",
       "    </tr>\n",
       "    <tr>\n",
       "      <th>0</th>\n",
       "      <td>AdaBoostClassifier</td>\n",
       "      <td>84.357542</td>\n",
       "    </tr>\n",
       "    <tr>\n",
       "      <th>0</th>\n",
       "      <td>GradientBoostingClassifier</td>\n",
       "      <td>83.240223</td>\n",
       "    </tr>\n",
       "    <tr>\n",
       "      <th>0</th>\n",
       "      <td>GaussianNB</td>\n",
       "      <td>74.301676</td>\n",
       "    </tr>\n",
       "    <tr>\n",
       "      <th>0</th>\n",
       "      <td>LinearDiscriminantAnalysis</td>\n",
       "      <td>81.564246</td>\n",
       "    </tr>\n",
       "    <tr>\n",
       "      <th>0</th>\n",
       "      <td>QuadraticDiscriminantAnalysis</td>\n",
       "      <td>82.681564</td>\n",
       "    </tr>\n",
       "    <tr>\n",
       "      <th>0</th>\n",
       "      <td>LogisticRegression</td>\n",
       "      <td>79.888268</td>\n",
       "    </tr>\n",
       "  </tbody>\n",
       "</table>\n",
       "</div>"
      ],
      "text/plain": [
       "                      Classifier   Accuracy\n",
       "0           KNeighborsClassifier  62.011173\n",
       "0                            SVC  63.687151\n",
       "0         DecisionTreeClassifier  73.184358\n",
       "0         RandomForestClassifier  83.240223\n",
       "0             AdaBoostClassifier  84.357542\n",
       "0     GradientBoostingClassifier  83.240223\n",
       "0                     GaussianNB  74.301676\n",
       "0     LinearDiscriminantAnalysis  81.564246\n",
       "0  QuadraticDiscriminantAnalysis  82.681564\n",
       "0             LogisticRegression  79.888268"
      ]
     },
     "execution_count": 32,
     "metadata": {},
     "output_type": "execute_result"
    }
   ],
   "source": [
    "log2"
   ]
  },
  {
   "cell_type": "markdown",
   "metadata": {},
   "source": [
    "**13.1)** Teniendo en cuenta el primer resultado"
   ]
  },
  {
   "cell_type": "code",
   "execution_count": 33,
   "metadata": {},
   "outputs": [
    {
     "data": {
      "text/html": [
       "<div>\n",
       "<style>\n",
       "    .dataframe thead tr:only-child th {\n",
       "        text-align: right;\n",
       "    }\n",
       "\n",
       "    .dataframe thead th {\n",
       "        text-align: left;\n",
       "    }\n",
       "\n",
       "    .dataframe tbody tr th {\n",
       "        vertical-align: top;\n",
       "    }\n",
       "</style>\n",
       "<table border=\"1\" class=\"dataframe\">\n",
       "  <thead>\n",
       "    <tr style=\"text-align: right;\">\n",
       "      <th></th>\n",
       "      <th>Classifier</th>\n",
       "      <th>Accuracy</th>\n",
       "    </tr>\n",
       "  </thead>\n",
       "  <tbody>\n",
       "    <tr>\n",
       "      <th>0</th>\n",
       "      <td>KNeighborsClassifier</td>\n",
       "      <td>55.307263</td>\n",
       "    </tr>\n",
       "    <tr>\n",
       "      <th>0</th>\n",
       "      <td>SVC</td>\n",
       "      <td>56.424581</td>\n",
       "    </tr>\n",
       "    <tr>\n",
       "      <th>0</th>\n",
       "      <td>DecisionTreeClassifier</td>\n",
       "      <td>72.625698</td>\n",
       "    </tr>\n",
       "    <tr>\n",
       "      <th>0</th>\n",
       "      <td>RandomForestClassifier</td>\n",
       "      <td>80.446927</td>\n",
       "    </tr>\n",
       "    <tr>\n",
       "      <th>0</th>\n",
       "      <td>AdaBoostClassifier</td>\n",
       "      <td>78.212291</td>\n",
       "    </tr>\n",
       "    <tr>\n",
       "      <th>0</th>\n",
       "      <td>GradientBoostingClassifier</td>\n",
       "      <td>81.005587</td>\n",
       "    </tr>\n",
       "    <tr>\n",
       "      <th>0</th>\n",
       "      <td>GaussianNB</td>\n",
       "      <td>74.301676</td>\n",
       "    </tr>\n",
       "    <tr>\n",
       "      <th>0</th>\n",
       "      <td>LinearDiscriminantAnalysis</td>\n",
       "      <td>75.977654</td>\n",
       "    </tr>\n",
       "    <tr>\n",
       "      <th>0</th>\n",
       "      <td>QuadraticDiscriminantAnalysis</td>\n",
       "      <td>74.860335</td>\n",
       "    </tr>\n",
       "    <tr>\n",
       "      <th>0</th>\n",
       "      <td>LogisticRegression</td>\n",
       "      <td>75.977654</td>\n",
       "    </tr>\n",
       "  </tbody>\n",
       "</table>\n",
       "</div>"
      ],
      "text/plain": [
       "                      Classifier   Accuracy\n",
       "0           KNeighborsClassifier  55.307263\n",
       "0                            SVC  56.424581\n",
       "0         DecisionTreeClassifier  72.625698\n",
       "0         RandomForestClassifier  80.446927\n",
       "0             AdaBoostClassifier  78.212291\n",
       "0     GradientBoostingClassifier  81.005587\n",
       "0                     GaussianNB  74.301676\n",
       "0     LinearDiscriminantAnalysis  75.977654\n",
       "0  QuadraticDiscriminantAnalysis  74.860335\n",
       "0             LogisticRegression  75.977654"
      ]
     },
     "execution_count": 33,
     "metadata": {},
     "output_type": "execute_result"
    }
   ],
   "source": [
    "log1"
   ]
  },
  {
   "cell_type": "markdown",
   "metadata": {},
   "source": [
    "**13.2)** A pesar de las modificaciones realizadas, las mejorías observadas son leves y no se tienen para todos los modelos usados. Los únicos que presentan cambios son Decision Tree, Gradient Boosting y Random Forest. Ahora los tres mejores modelos serían: **1. Gradient Boost Classifier, 2. Random Forest Classifier, 3. Ada Boost Classifier. **"
   ]
  },
  {
   "cell_type": "markdown",
   "metadata": {},
   "source": [
    "**13.3)** Cabe mencionar que algunos usuarios de la comunidad reportaban precisiones de hasta un 99% en sus modelos como se explica en este [link](https://towardsdatascience.com/how-i-got-98-prediction-accuracy-with-kaggles-titanic-competition-ad24afed01fc), por ejemplo. Pero cuando lo comparabamos con la manera en que nosotros obteniamos la precisión nos dimos cuenta que ellos comparan el modelo con los mismos datos de entrenamiento. Es decir, esta precisión, en realidad, indicaría qué tanto se ajusta el modelo a los datos de prueba, similar a lo que representaría el número R en una regresión. Lo anterior es incorrecto ya que lo que se evalúa en la competencia es la cantidad de personas que hacen parte del archivo test.csv cuya supervivencia se calculó de manera correcta.\n",
    "\n",
    "La incorrecta verifiación recién descrita se muestra a continuación:"
   ]
  },
  {
   "cell_type": "code",
   "execution_count": 34,
   "metadata": {
    "collapsed": true
   },
   "outputs": [],
   "source": [
    "svc=SVC()\n",
    "svc.fit(X_train,y_train)\n",
    "Y_pred=svc.predict(X_test)\n",
    "acc_svc=round(svc.score(X_train,y_train)*100,2)"
   ]
  },
  {
   "cell_type": "code",
   "execution_count": 35,
   "metadata": {},
   "outputs": [
    {
     "data": {
      "text/plain": [
       "97.329999999999998"
      ]
     },
     "execution_count": 35,
     "metadata": {},
     "output_type": "execute_result"
    }
   ],
   "source": [
    "acc_svc"
   ]
  },
  {
   "cell_type": "markdown",
   "metadata": {},
   "source": [
    "Como fue mencionado, este resultado no es el resultado final de la precisión del modelo respecto a los datos de prueba, sino un porcentaje de ajuste a los datos con los que el modelo fue entrenado.\n",
    "\n",
    "A continuación se adecúan los datos de prueba al ajuste realizado:"
   ]
  },
  {
   "cell_type": "code",
   "execution_count": 36,
   "metadata": {
    "collapsed": true
   },
   "outputs": [],
   "source": [
    "data_test = simplify_family(data_test)\n",
    "data_test = drop_features2(data_test)\n",
    "test_X = data_test.drop(['PassengerId'],axis=1)"
   ]
  },
  {
   "cell_type": "markdown",
   "metadata": {},
   "source": [
    "## Mejores modelos y predicciones datos de prueba<a name=\"cuarto\"></a>"
   ]
  },
  {
   "cell_type": "markdown",
   "metadata": {},
   "source": [
    "Para los siguientes tres clasificadores se realiza el ajuste con base a la mejora del modelo con la inclusión de la característica $IsAlone$, se lleva a cabo la predicción de los datos a evaluar, pasándo los resultados a formato .csv y, finalmente, se carga el archivo a la plataforma de Kaggle para obtener el puntaje respectivo. Además de esto, se realiza una variación de los parámetros de cada uno de ellos para buscar, de igual manera, mejores resultados. Estos parámetros fueron determinados a través de iteraciones, determinando la combinación de los mismos de la cual se obtenía el mejor porcentaje de precisión."
   ]
  },
  {
   "cell_type": "markdown",
   "metadata": {},
   "source": [
    "**14) Gradient Boost Classifier:** Una de las razones por las cuales éste método fue el más efectivo para ésta serie de datos es porque, a grandes rasgos, se puede considerar como una versión mejorada, tanto del AdaBoost como del Random Forest. Tanto éste método como el AdaBoost fueron clasificados como \"ARCing algorithms\" cuyas siglas significan Adaptative, Reweighting and Combining\". El objetivo de ambos tipos de modelo es generar una clasificación binaria de una forma parecida a como lo haría un arbol de decisión, tomando una característica y generando una conclusión, pero estos clasificadores van un paso más allá y prestan atención a las características que no tienen una relación tan evidente con los resultados.\n",
    "\n",
    "Esto quiere decir que tanto Gradient Boost como AdaBoost toman los elementos conocidos como \"weak learners\", que son las relaciones generadas que no parecen tener mayor influencia en el modelo, y los desarrolla hasta tener un modelo más robusto. La diferencia entre el AdaBoost y el Gradient Boost radica en que el último guarda la relación original de los weak learners y va agregando otros totalmente nuevos. [Brownlee,2016](https://machinelearningmastery.com/gentle-introduction-gradient-boosting-algorithm-machine-learning/)"
   ]
  },
  {
   "cell_type": "code",
   "execution_count": 37,
   "metadata": {},
   "outputs": [
    {
     "name": "stdout",
     "output_type": "stream",
     "text": [
      "0.832402234637\n"
     ]
    }
   ],
   "source": [
    "#Mejora de GBC\n",
    "predictions=GradientBoostingClassifier(learning_rate=0.2,n_estimators=80,max_depth=3,min_samples_split=4).fit(X_train2,y_train2).predict(X_test2)\n",
    "print(accuracy_score(y_test2,predictions))"
   ]
  },
  {
   "cell_type": "markdown",
   "metadata": {},
   "source": [
    "Con los parámetros ajustados se obtiene una cercana al 1% con respecto al resultado que se mostró anteriormente. Estos serán los usados para la predicción final de los datos de prueba."
   ]
  },
  {
   "cell_type": "code",
   "execution_count": 38,
   "metadata": {
    "collapsed": true
   },
   "outputs": [],
   "source": [
    "#Predicción final. Se usa el 80% de los datos de prueba ya que se obtuvo mejor resultado en el puntaje final\n",
    "test_Y = GradientBoostingClassifier(learning_rate=0.2,n_estimators=80,max_depth=3,min_samples_split=4).fit(X_train2,y_train2).predict( test_X )\n",
    "passenger_id = data_test.PassengerId\n",
    "test = pd.DataFrame( { 'PassengerId': passenger_id , 'Survived': test_Y } )\n",
    "test.shape\n",
    "test.head()\n",
    "test.to_csv( 'titanic_pred_GBC.csv' , index = False )"
   ]
  },
  {
   "cell_type": "markdown",
   "metadata": {},
   "source": [
    "**15) Random Forest Classifier:** El Random Forest Classifier es un algoritmo compuesto, lo que significa que implementa más de un algoritmo para su entrenamiento. Este modelo es en esencia un conjunto de arboles de decisión que toman características aleatorias del set de entrenamiento y para generar una predicción en cada árbol. Al final, dependiendo la clasificación generada por la mayoría de arboles se genera la predicción.\n",
    "\n",
    "Entre las ventajas de este modelo se puede decir que un sólo árbol de decisión esta sujeto al ruido que tenga el set, mientras que la utilización de varios arboles reduce el efecto no deseado del ruido. Entre los parametros básicos de este modelo estan el número de arboles a utilizar, el número de parametros a tener en cuenta y la cantidad mínima de sujetos necesaria para dividir un nodo. [Patel, 2017](https://medium.com/machine-learning-101/chapter-5-random-forest-classifier-56dc7425c3e1)"
   ]
  },
  {
   "cell_type": "code",
   "execution_count": 39,
   "metadata": {},
   "outputs": [
    {
     "name": "stdout",
     "output_type": "stream",
     "text": [
      "0.815642458101\n"
     ]
    }
   ],
   "source": [
    "predictions=RandomForestClassifier(n_estimators=20,min_samples_split=3,min_samples_leaf=6).fit(X_train2,y_train2).predict(X_test2)\n",
    "print(accuracy_score(y_test2,predictions))"
   ]
  },
  {
   "cell_type": "markdown",
   "metadata": {},
   "source": [
    "De igual manera, se logra una leve mejoría con respecto a los resultados de las tablas. Estos ajustes realizados se usarán para la predicción de los datos de prueba."
   ]
  },
  {
   "cell_type": "code",
   "execution_count": 40,
   "metadata": {
    "collapsed": true
   },
   "outputs": [],
   "source": [
    "#Predicción final\n",
    "test_Y = RandomForestClassifier(n_estimators=20,min_samples_split=3,min_samples_leaf=6).fit(X_train2,y_train2).predict( test_X )\n",
    "passenger_id = data_test.PassengerId\n",
    "test = pd.DataFrame( { 'PassengerId': passenger_id , 'Survived': test_Y } )\n",
    "test.shape\n",
    "test.head()\n",
    "test.to_csv( 'titanic_pred_RFC.csv' , index = False )"
   ]
  },
  {
   "cell_type": "markdown",
   "metadata": {},
   "source": [
    "**16)Ada Boost Classifier:** En general, los modelos de tipo boost procuran generar un modelo robusto a partir de modelos débiles, como se podría considerar el árbol de decisión. AdaBoost o Adaptive Boosting es utilizado para mejorar el desempeño de los arboles de decisión en problemas de clasificación binarios. El objetivo de este tipo de modelos es tomar el resultado de un método más simple y a partir de la precisión obtenida generar mejoras, aquellos modelos con menor precisión tendran mayor peso en la mejora hasta que no se puedan realizar más mejorar o como hiperparametro del modelo. [Brownlee, 2016](https://machinelearningmastery.com/boosting-and-adaboost-for-machine-learning/)"
   ]
  },
  {
   "cell_type": "code",
   "execution_count": 41,
   "metadata": {},
   "outputs": [
    {
     "name": "stdout",
     "output_type": "stream",
     "text": [
      "0.826815642458\n"
     ]
    }
   ],
   "source": [
    "predictions=AdaBoostClassifier(learning_rate=0.7).fit(X_train2,y_train2).predict(X_test2)\n",
    "print(accuracy_score(y_test2,predictions))"
   ]
  },
  {
   "cell_type": "markdown",
   "metadata": {},
   "source": [
    "El ajuste realizado a la tasa de aprendizaje (1, por default) conlleva a una mejoría en la precisión cercana al 4%. De esta manera, se realiza la predicción final."
   ]
  },
  {
   "cell_type": "code",
   "execution_count": 42,
   "metadata": {
    "collapsed": true
   },
   "outputs": [],
   "source": [
    "#Predicción final\n",
    "test_Y = AdaBoostClassifier(learning_rate=0.7).fit(X_train2,y_train2).predict( test_X )\n",
    "passenger_id = data_test.PassengerId\n",
    "test = pd.DataFrame( { 'PassengerId': passenger_id , 'Survived': test_Y } )\n",
    "test.shape\n",
    "test.head()\n",
    "test.to_csv( 'titanic_pred_Ada.csv' , index = False )"
   ]
  },
  {
   "cell_type": "markdown",
   "metadata": {
    "collapsed": true
   },
   "source": [
    "## Resultados y conclusiones <a name=\"quinto\"></a>"
   ]
  },
  {
   "cell_type": "markdown",
   "metadata": {},
   "source": [
    "|        Clasificador       | Puntaje en Kaggle (%) |\n",
    "|:-------------------------:|:---------------------:|\n",
    "| Gradient Boost Classifier |         80.861        |\n",
    "|  Random Forest Classifier |         77.511        |\n",
    "|    Ada Boost Classifier   |         78.947        |"
   ]
  },
  {
   "cell_type": "markdown",
   "metadata": {},
   "source": [
    "**17)** En la tabla anterior se muestran los puntajes obtenidos en el concurso usando los clasificadores que mejor precisión daban con los datos de entrenamiento. Para cada caso, se tiene una reducción con respecto a los porcentajes que se mostraron en la sección anterior. De esto se puede deducir que los modelos fueron ajustados de manera adecuada. Si se tuviese mayor diferencia entre cada porcentaje, teniendo valores mayores para la precisión de los datos de entrenamiento, se entraría en una situación de overfitting. \n",
    "\n",
    "Al momento de redacción de este cuaderno, la posición en el Leaderboard fue de 785 entre 11339 participantes. Es importante mencionar que, aunque los primeros lugares presentan precisiones del 100%, esto no es posible lograr, como se comenta en este [foro](https://www.kaggle.com/c/titanic/discussion/4894). Con el hecho de que la lista de quienes fallecieron se encuentra en internet, es de facilidad poder incurrir en trampa y lograr puntajes perfectos, situación que una máquina no puede lograr. Otra posible causa de esto es over fitting, lo cual significaría que los datos sólo se ajustan a esta situación y no podrían ajustarse a ligeros cambios que se tengan."
   ]
  },
  {
   "cell_type": "markdown",
   "metadata": {},
   "source": [
    "**18)** Conclusiones \n",
    "- Se logró obtener un mejor entendimiento de aspectos básicos de machine learning, tales como Feature Engineering.\n",
    "- Es posbile que el número del tiquete mejore la preisión del modelo, característica que no fue tenida en cuenta en el proyecto.\n",
    "- Se debe ser cuidadoso al momento de seleccionar el clasificador a usar y sus respectivos parámetros, ya que estos pueden tanto aumentar como disminuir la precisión.\n",
    "- El puntaje final obtenido se encuentra dentro del rango ideal real (entre 77% y 82%, según foros), por lo cual se tiene una posición final aceptable en el concurso.\n",
    "- Realizar un adecuado pre-procesamiento es ideal para obtención de resultados adecuados. Esto se vió reflejado en la inclusión de la característica IsAlone.\n"
   ]
  },
  {
   "cell_type": "markdown",
   "metadata": {},
   "source": [
    "## Referencias"
   ]
  },
  {
   "cell_type": "markdown",
   "metadata": {},
   "source": [
    "[1] [Kaggle.Titanic: Machine Learning from Disaster. 2012](https://www.kaggle.com/c/titanic)\n",
    "\n",
    "[2] [M.Sehgal. Titanic Data science Solutions. 2018](https://www.kaggle.com/startupsci/titanic-data-science-solutions)\n",
    "\n",
    "[3] [T. Cusack. How I got ~98% prediction accuracy with Kaggles Titanic Competition.2018](https://towardsdatascience.com/how-i-got-98-prediction-accuracy-with-kaggles-titanic-competition-ad24afed01fc)\n",
    "\n",
    "[4] [J. Brownlee. A Gentle Introduction to the Gradient Boosting Algorithm for Machine Learning.2016](https://machinelearningmastery.com/gentle-introduction-gradient-boosting-algorithm-machine-learning/)\n",
    "\n",
    "[5] [S. Patel. Chapter 5: Random Forest Classifier.2017](https://medium.com/machine-learning-101/chapter-5-random-forest-classifier-56dc7425c3e1)\n",
    "\n",
    "[6] [J. Brownlee. Boosting and AdaBoost for Machine Learning. 2016](https://machinelearningmastery.com/boosting-and-adaboost-for-machine-learning/)\n",
    "\n",
    "[7] [S. Ray. Essentials of Machine Learning Algorithms (with Python and R Codes). 2017](https://www.analyticsvidhya.com/blog/2017/09/common-machine-learning-algorithms/)\n",
    "\n",
    "[8] [J. Le. The 10 Algorithms Machine Learning Engineers Need to Know. 2016](https://www.kdnuggets.com/2016/08/10-algorithms-machine-learning-engineers.html)"
   ]
  }
 ],
 "metadata": {
  "kernelspec": {
   "display_name": "Python 3",
   "language": "python",
   "name": "python3"
  },
  "language_info": {
   "codemirror_mode": {
    "name": "ipython",
    "version": 3
   },
   "file_extension": ".py",
   "mimetype": "text/x-python",
   "name": "python",
   "nbconvert_exporter": "python",
   "pygments_lexer": "ipython3",
   "version": "3.6.3"
  }
 },
 "nbformat": 4,
 "nbformat_minor": 2
}
