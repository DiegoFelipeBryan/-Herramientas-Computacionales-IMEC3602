{
 "cells": [
  {
   "cell_type": "markdown",
   "metadata": {
    "inputHidden": false,
    "outputHidden": false
   },
   "source": [
    "# Taller 1\n",
    "## Diego Felipe Bryan \\\\ 201425625\n",
    "### Teniendo en cuenta el código de referencia quiero:\n",
    "#### 1. Hacer una función o programa que haga el cálculo de la ENFICC.\n",
    "#### 2. Función que devuelva la gráfica comparando la distribución de energía de diferentes series \n",
    "#### 3. Función para Medición-Correlación-Predicción que recibe IDEAM recortada, usa los datos de NREL y devuelve algo parecido a IDEAM completa\n",
    "#### 4. Funciones para calcular RMSEn, MBE, KSI% entre dos funciones y devuelve el error indicado.\n",
    "#### 5. Análisis de eficacia para series de tiempo de diferentes localizaciones. Analizando como afecta la cantidad de datos y el año seleccionado.\n",
    "#### 6. Es para el viernes 16 de Febrero de 2018 antes de las 5 pm."
   ]
  },
  {
   "cell_type": "markdown",
   "metadata": {},
   "source": [
    "## 1. Función ENFICC 99%"
   ]
  },
  {
   "cell_type": "code",
   "execution_count": 1,
   "metadata": {},
   "outputs": [
    {
     "name": "stdout",
     "output_type": "stream",
     "text": [
      "Populating the interactive namespace from numpy and matplotlib\n"
     ]
    }
   ],
   "source": [
    "#Comandos operativos (se usa para unir las rutas)\n",
    "import os \n",
    "\n",
    "#Se usa para manejar los datos -leer, crear, modificar, etc.-\n",
    "import pandas as pd \n",
    "\n",
    "#Importa numpy  y matplotlib\n",
    "%pylab inline "
   ]
  },
  {
   "cell_type": "code",
   "execution_count": 2,
   "metadata": {
    "collapsed": true
   },
   "outputs": [],
   "source": [
    "#Dirección a la carpeta data -La carpeta debe estar creada-\n",
    "base_dir = os.path.join( '.','data') \n",
    "\n",
    "#Dirección a la carpeta output -La carpeta debe estar creada-\n",
    "output_dir = os.path.join( '.','output') \n",
    "\n",
    "#Nombre del lugar a evaluar\n",
    "ciudad = 'Valledupar' \n",
    "\n",
    "#Origen de los datos, puede ser IDEAM o NREL\n",
    "fuente = 'IDEAM'\n",
    "fuenteSAT = 'NREL'\n",
    "\n",
    "#Dirección completa de los datos a evaluar\n",
    "serie_csv = os.path.join(base_dir,ciudad,fuente+'.csv') \n",
    "serie_csv_sat = os.path.join(base_dir,ciudad,fuenteSAT+'.csv')\n",
    "\n",
    "# Usa panda para leer la serie de datos\n",
    "# Toca saber cómo estan organizados los datos\n",
    "serie_pd = pd.read_csv(serie_csv, sep = ';', encoding='latin-1') \n",
    "sat = pd.read_csv(serie_csv_sat, sep = ';',encoding='latin-1')"
   ]
  },
  {
   "cell_type": "code",
   "execution_count": 3,
   "metadata": {
    "collapsed": true
   },
   "outputs": [],
   "source": [
    "#Total de energía medida en un mes [kW]\n",
    "def ghi_mensual(serie_horaria):\n",
    "    #.unique me elimina los datos repetidos\n",
    "    agnos = sorted(serie_horaria['AÑO'].unique())\n",
    "    \n",
    "    #Crea el dataframe para registrar los cálculos\n",
    "    ghi_df = pd.DataFrame(columns=[\"AÑO\", \"MES\", \"DIAS\", \"GHImes\"]) \n",
    "    \n",
    "    for agno in agnos:\n",
    "        for mes in range(1,13):\n",
    "            #Elije el nombre de la última columna sin tener que conocerlo\n",
    "            nombre_energia = list(serie_horaria)[-1]\n",
    "            dias = sorted(serie_horaria[(serie_horaria['AÑO'] == agno)&(serie_horaria['MES'] == mes)][\"DIA\"].unique())\n",
    "            \n",
    "            #.loc me localiza el mes exacto\n",
    "            ghi_mes = serie_horaria.loc[((serie_horaria[\"AÑO\"] == agno)& (serie_horaria[\"MES\"] == mes)),nombre_energia].sum()/1000 \n",
    "            \n",
    "            #Formato con los valores estudiados que se van a agregar\n",
    "            ghi_dict = {\"AÑO\":agno, \"MES\":mes, \"DIAS\":dias[-1],\"GHImes\":ghi_mes}\n",
    "            \n",
    "            #.append agrega los datos que acabo de crear\n",
    "            ghi_df = ghi_df.append(ghi_dict, ignore_index=True)\n",
    "    return ghi_df\n",
    "\n",
    "#Promedio diario de energía que se crea en cada mes \n",
    "def ghi_dia(serie_ghi_mensual):\n",
    "    agnos = sorted(serie_ghi_mensual['AÑO'].unique())\n",
    "    ghi_df = pd.DataFrame(columns=[\"AÑO\", \"MES\", \"GHIdiario\"])\n",
    "    for agno in agnos:\n",
    "        for mes in range(1,13):\n",
    "            dias = serie_ghi_mensual.loc[((serie_ghi_mensual[\"AÑO\"] == agno)&(serie_ghi_mensual[\"MES\"] == mes)),\"DIAS\"].item()\n",
    "            ghi_diario = serie_ghi_mensual.loc[((serie_ghi_mensual[\"AÑO\"] == agno)& (serie_ghi_mensual[\"MES\"] == mes)),\"GHImes\"].item()/dias\n",
    "            ghi_dict = {\"AÑO\":agno, \"MES\":mes, \"GHIdiario\":ghi_diario}\n",
    "            ghi_df = ghi_df.append(ghi_dict, ignore_index=True)\n",
    "    return ghi_df"
   ]
  },
  {
   "cell_type": "code",
   "execution_count": 4,
   "metadata": {
    "collapsed": true
   },
   "outputs": [],
   "source": [
    "#Función que me describre el parametro de la ENFICC\n",
    "def ENFICC (serie):\n",
    "    mensual = ghi_mensual(serie)\n",
    "    diario = ghi_dia(mensual)\n",
    "    \n",
    "    #No me interesa en qué mes ocurre\n",
    "    #Solo interesa la distribución de los datos\n",
    "    datos = sorted(diario[\"GHIdiario\"]) \n",
    "    \n",
    "    #Qué parte de la población voy a excluir para tener certeza del 99%\n",
    "    percentil = 0.01\n",
    "    \n",
    "    #Qué valor me cumple con ese 99% de certeza \n",
    "    enficc = diario.quantile(q=percentil,numeric_only=True)[\"GHIdiario\"]\n",
    "    return print('La ENFICC 99% es:', enficc)\n"
   ]
  },
  {
   "cell_type": "code",
   "execution_count": 5,
   "metadata": {},
   "outputs": [
    {
     "name": "stdout",
     "output_type": "stream",
     "text": [
      "La ENFICC 99% es: 4.56900737661\n",
      "La ENFICC 99% es: 5.06265316667\n"
     ]
    }
   ],
   "source": [
    "#ENFICC prueba de las series de valledupar para los datos en tierra y satelite respectivamente\n",
    "ENFICC(serie_pd)\n",
    "ENFICC(sat)"
   ]
  },
  {
   "cell_type": "markdown",
   "metadata": {},
   "source": [
    "## 2. Gráficas"
   ]
  },
  {
   "cell_type": "code",
   "execution_count": 38,
   "metadata": {
    "collapsed": true,
    "inputHidden": false,
    "outputHidden": false
   },
   "outputs": [],
   "source": [
    "#Voy a usar el det para cambiar el nombre del archivo de imagen  \n",
    "det = 'AÑO-MES1-MES2'\n",
    "\n",
    "#Función para graficar y comparar las series IDEAM, NREL y NREL corregidas\n",
    "def grafica3(objetivo,satelite,corregida,lugar,detalle):\n",
    "    #Nombra los ejes\n",
    "    pylab.xlabel(\"Datos\")\n",
    "    pylab.ylabel(\"Energía/Energía Base IDEAM\") \n",
    "    \n",
    "    #La energía base es el promedio mínimo producido\n",
    "    minimo = objetivo[0]\n",
    "    \n",
    "    #Valores x y y a graficar de cada serie a comparar\n",
    "    x1 = list(range(len(objetivo)))\n",
    "    y1 = objetivo/minimo\n",
    "    pylab.plot(x1,y1,'-k', label='IDEAM')\n",
    "    x2 = list(range(len(satelite)))\n",
    "    y2 = satelite/minimo\n",
    "    pylab.plot(x2,y2,'-b', label='NREL')\n",
    "    x3 = list(range(len(corregida)))\n",
    "    y3 = corregida/minimo\n",
    "    pylab.plot(x3,y3,'--r', label='CORREGIDA')\n",
    "    pylab.legend(loc='upper left')\n",
    "    \n",
    "    #Dirección para guardar la imagen\n",
    "    pylab.savefig(os.path.join(output_dir,lugar+'_IDEAM'+detalle+'.png'), dpi=600)\n",
    "    \n",
    "    return pylab.show()\n",
    "    "
   ]
  },
  {
   "cell_type": "markdown",
   "metadata": {},
   "source": [
    "## 3. MCP"
   ]
  },
  {
   "cell_type": "code",
   "execution_count": 7,
   "metadata": {
    "collapsed": true
   },
   "outputs": [],
   "source": [
    "#Función para acortar una serie dentro de un año especifico y un rango de meses.\n",
    "def restringir(serie,ano,mes1,mes2):\n",
    "    serie = serie[(serie['AÑO'] == ano)&(serie['MES'] >= mes1)&(serie['MES'] <= mes2)]\n",
    "    return serie"
   ]
  },
  {
   "cell_type": "code",
   "execution_count": 8,
   "metadata": {
    "collapsed": true
   },
   "outputs": [],
   "source": [
    "#Para que no se modifiquen los datos previamente establecidos se hace un cambio de las variables\n",
    "corta = restringir(serie_pd,2010,1,12)\n"
   ]
  },
  {
   "cell_type": "code",
   "execution_count": 9,
   "metadata": {
    "collapsed": true
   },
   "outputs": [],
   "source": [
    "#Medición-Correlación-Predicción recibe los datos medidos en tierra (cortos) y los datos satelitales.\n",
    "def MCP(objetivo,larga):\n",
    "    correct = larga.copy()\n",
    "    #Recorta la serie satelital al periodo en común con los datos de tierro\n",
    "    comun = correct[(correct['AÑO']>=objetivo.iloc[0,0])&(correct['AÑO']<=objetivo.iloc[-1,0])\n",
    "                 &(correct['MES']>=objetivo.iloc[0,1])&(correct['MES']<=objetivo.iloc[-1,1])]\n",
    "    \n",
    "    #Cálculo de constantes en la función\n",
    "    objetivo_barra = objetivo['IDEAM'].mean()\n",
    "    comun_barra = comun['NREL'].mean()\n",
    "    objetivo_sigma = objetivo['IDEAM'].std()\n",
    "    comun_sigma = comun['NREL'].std()\n",
    "    \n",
    "    #Función aplicada a todos los datos medidos por el satelite\n",
    "    ghi = (objetivo_barra - (objetivo_sigma/comun_sigma) * comun_barra) + (objetivo_sigma/comun_sigma)*correct['NREL']\n",
    "    \n",
    "    #Los datos que antes eran 0 se volvieron negativos entonces se corrigen con esto\n",
    "    ghi[ghi <= 0] =  0\n",
    "    \n",
    "    #Reemplaza la columna de energía medida con los datos corregidos\n",
    "    correct['NREL'] = ghi\n",
    "    return correct"
   ]
  },
  {
   "cell_type": "code",
   "execution_count": 33,
   "metadata": {},
   "outputs": [],
   "source": [
    "corregida = MCP(corta,sat)"
   ]
  },
  {
   "cell_type": "code",
   "execution_count": 11,
   "metadata": {},
   "outputs": [
    {
     "name": "stdout",
     "output_type": "stream",
     "text": [
      "La ENFICC 99% es: 4.56900737661\n",
      "La ENFICC 99% es: 5.06265316667\n",
      "La ENFICC 99% es: 4.4688224469\n"
     ]
    }
   ],
   "source": [
    "#ENFICC prueba de las diferentes series de valledupar\n",
    "ENFICC(serie_pd) #IDEAM (medidas en tierra)\n",
    "ENFICC(sat)      #NREL (medidas satelitales)\n",
    "ENFICC(corregida)#NRELcr (medidas satelitales corregidas)"
   ]
  },
  {
   "cell_type": "code",
   "execution_count": 12,
   "metadata": {
    "collapsed": true
   },
   "outputs": [],
   "source": [
    "#Datos organizados de la serie IDEAM de valledupar\n",
    "mensual_IDEAM = ghi_mensual(serie_pd)\n",
    "diario_IDEAM = ghi_dia(mensual_IDEAM)\n",
    "datos_IDEAM = sorted(diario_IDEAM[\"GHIdiario\"])\n",
    "\n",
    "#Datos organizados de la serie NREL de valledupar\n",
    "mensual_NREL = ghi_mensual(sat)\n",
    "diario_NREL = ghi_dia(mensual_NREL)\n",
    "datos_NREL = sorted(diario_NREL[\"GHIdiario\"])\n",
    "\n",
    "#Datos organizados de la serie CORREGIDA NREL de valledupar \n",
    "mensual_CORREGIDOS = ghi_mensual(corregida)\n",
    "diario_CORREGIDOS = ghi_dia(mensual_CORREGIDOS)\n",
    "datos_CORREGIDOS = sorted(diario_CORREGIDOS[\"GHIdiario\"])"
   ]
  },
  {
   "cell_type": "code",
   "execution_count": 39,
   "metadata": {},
   "outputs": [
    {
     "data": {
      "image/png": "[encoded data removed]",
      "text/plain": [
       "<matplotlib.figure.Figure at 0x53f1e7bc50>"
      ]
     },
     "metadata": {},
     "output_type": "display_data"
    }
   ],
   "source": [
    "grafica3(datos_IDEAM,datos_NREL, datos_CORREGIDOS,ciudad,det)"
   ]
  },
  {
   "cell_type": "markdown",
   "metadata": {
    "collapsed": true
   },
   "source": [
    "## 4. Cálculos de error"
   ]
  },
  {
   "cell_type": "code",
   "execution_count": 14,
   "metadata": {},
   "outputs": [
    {
     "data": {
      "text/plain": [
       "132"
      ]
     },
     "execution_count": 14,
     "metadata": {},
     "output_type": "execute_result"
    }
   ],
   "source": [
    "#La cantidad de datos es diferente entonces el error lo calculo con la misma cantidad de datos organizados.\n",
    "len(datos_CORREGIDOS)\n"
   ]
  },
  {
   "cell_type": "code",
   "execution_count": 15,
   "metadata": {},
   "outputs": [
    {
     "data": {
      "text/plain": [
       "132"
      ]
     },
     "execution_count": 15,
     "metadata": {},
     "output_type": "execute_result"
    }
   ],
   "source": [
    "len(datos_NREL)"
   ]
  },
  {
   "cell_type": "code",
   "execution_count": 16,
   "metadata": {},
   "outputs": [
    {
     "data": {
      "text/plain": [
       "120"
      ]
     },
     "execution_count": 16,
     "metadata": {},
     "output_type": "execute_result"
    }
   ],
   "source": [
    "len(datos_IDEAM)"
   ]
  },
  {
   "cell_type": "code",
   "execution_count": 17,
   "metadata": {
    "collapsed": true
   },
   "outputs": [],
   "source": [
    "#Donde la serie1 es la observada en tierra y la serie 2 es la modelada del satélite\n",
    "#Deben entrar dos listas *ordenadas* de los promedios diarios medidos como los que se graficaron anteriormente\n",
    "def MBE (serie1,serie2): \n",
    "    #Hago que las listas queden del mismo tamaño \n",
    "    serie2 = serie2[:len(serie1)]\n",
    "    \n",
    "    suma1 = sum(serie1)\n",
    "    suma2 = sum(serie2)\n",
    "    error = suma2-suma1\n",
    "    result = error / suma1\n",
    "    \n",
    "        \n",
    "    \n",
    "    return print('El MBE es:',\"{:.2%}\".format(result))\n",
    "   "
   ]
  },
  {
   "cell_type": "code",
   "execution_count": 18,
   "metadata": {},
   "outputs": [
    {
     "name": "stdout",
     "output_type": "stream",
     "text": [
      "El MBE es: 10.07%\n",
      "El MBE es: -2.55%\n"
     ]
    }
   ],
   "source": [
    "MBE(datos_IDEAM,datos_NREL)\n",
    "MBE(datos_IDEAM,datos_CORREGIDOS)\n"
   ]
  },
  {
   "cell_type": "code",
   "execution_count": 19,
   "metadata": {},
   "outputs": [
    {
     "data": {
      "text/plain": [
       "132"
      ]
     },
     "execution_count": 19,
     "metadata": {},
     "output_type": "execute_result"
    }
   ],
   "source": [
    "len(datos_CORREGIDOS)"
   ]
  },
  {
   "cell_type": "code",
   "execution_count": 20,
   "metadata": {},
   "outputs": [
    {
     "data": {
      "text/plain": [
       "120"
      ]
     },
     "execution_count": 20,
     "metadata": {},
     "output_type": "execute_result"
    }
   ],
   "source": [
    "len(datos_IDEAM)"
   ]
  },
  {
   "cell_type": "code",
   "execution_count": 21,
   "metadata": {},
   "outputs": [
    {
     "data": {
      "text/plain": [
       "132"
      ]
     },
     "execution_count": 21,
     "metadata": {},
     "output_type": "execute_result"
    }
   ],
   "source": [
    "len(datos_CORREGIDOS)"
   ]
  },
  {
   "cell_type": "code",
   "execution_count": 22,
   "metadata": {
    "collapsed": true
   },
   "outputs": [],
   "source": [
    "#Donde la serie1 es la observada en tierra y la serie 2 es la modelada del satélite\n",
    "#Deben entrar dos listas *ordenadas* de los promedios diarios medidos como los que se graficaron anteriormente\n",
    "def RMSE (serie1,serie2): \n",
    "    serie2 = serie2[:len(serie1)]\n",
    "    error = 0\n",
    "    sumatoria = 0\n",
    "    for i in range(0,len(serie1)):\n",
    "        ghi_obs = serie1[i]\n",
    "        ghi_mod = serie2[i]\n",
    "        resta = (ghi_obs - ghi_mod)**2\n",
    "        error = error + resta\n",
    "        sumatoria = sumatoria + ghi_obs\n",
    "        \n",
    "    error = sqrt(error/len(serie1))\n",
    "    result = error / (serie1[-1]-serie1[0])  \n",
    "    \n",
    "    return print('El RMSE es:',\"{:.2%}\".format(result))\n",
    "   \n"
   ]
  },
  {
   "cell_type": "code",
   "execution_count": 23,
   "metadata": {},
   "outputs": [
    {
     "name": "stdout",
     "output_type": "stream",
     "text": [
      "El RMSE es: 24.34%\n",
      "El RMSE es: 10.52%\n"
     ]
    }
   ],
   "source": [
    "RMSE(datos_IDEAM,datos_NREL)\n",
    "RMSE(datos_IDEAM,datos_CORREGIDOS)\n"
   ]
  },
  {
   "cell_type": "code",
   "execution_count": 24,
   "metadata": {},
   "outputs": [
    {
     "data": {
      "text/plain": [
       "132"
      ]
     },
     "execution_count": 24,
     "metadata": {},
     "output_type": "execute_result"
    }
   ],
   "source": [
    "len(datos_CORREGIDOS)"
   ]
  },
  {
   "cell_type": "code",
   "execution_count": 25,
   "metadata": {},
   "outputs": [
    {
     "data": {
      "text/plain": [
       "120"
      ]
     },
     "execution_count": 25,
     "metadata": {},
     "output_type": "execute_result"
    }
   ],
   "source": [
    "len(datos_IDEAM)"
   ]
  },
  {
   "cell_type": "code",
   "execution_count": 26,
   "metadata": {},
   "outputs": [
    {
     "data": {
      "text/plain": [
       "132"
      ]
     },
     "execution_count": 26,
     "metadata": {},
     "output_type": "execute_result"
    }
   ],
   "source": [
    "len(datos_NREL)"
   ]
  },
  {
   "cell_type": "code",
   "execution_count": 27,
   "metadata": {
    "collapsed": true
   },
   "outputs": [],
   "source": [
    "#Importa la libreria para comparar las series\n",
    "from scipy import stats"
   ]
  },
  {
   "cell_type": "code",
   "execution_count": 28,
   "metadata": {
    "collapsed": true
   },
   "outputs": [],
   "source": [
    "# Usar .stats.ks_2samp como KSI con datos equivalentes\n",
    "def KSI (serie1, serie2):\n",
    "    serie2 = serie2[:len(serie1)]\n",
    "    error = stats.ks_2samp(serie1, serie2)\n",
    "    return print('El pvalue es:',\"{:.2%}\".format(error[-1]))\n",
    "\n",
    "    "
   ]
  },
  {
   "cell_type": "code",
   "execution_count": 29,
   "metadata": {},
   "outputs": [
    {
     "name": "stdout",
     "output_type": "stream",
     "text": [
      "El pvalue es: 2.09%\n",
      "El pvalue es: 0.00%\n"
     ]
    }
   ],
   "source": [
    "KSI(datos_IDEAM,datos_CORREGIDOS)\n",
    "KSI(serie_pd['IDEAM'],corregida['NREL'])"
   ]
  },
  {
   "cell_type": "code",
   "execution_count": 30,
   "metadata": {},
   "outputs": [
    {
     "data": {
      "text/plain": [
       "132"
      ]
     },
     "execution_count": 30,
     "metadata": {},
     "output_type": "execute_result"
    }
   ],
   "source": [
    "len(datos_CORREGIDOS)"
   ]
  },
  {
   "cell_type": "code",
   "execution_count": 31,
   "metadata": {},
   "outputs": [
    {
     "data": {
      "text/plain": [
       "120"
      ]
     },
     "execution_count": 31,
     "metadata": {},
     "output_type": "execute_result"
    }
   ],
   "source": [
    "len(datos_IDEAM)"
   ]
  },
  {
   "cell_type": "code",
   "execution_count": 32,
   "metadata": {},
   "outputs": [
    {
     "data": {
      "text/plain": [
       "132"
      ]
     },
     "execution_count": 32,
     "metadata": {},
     "output_type": "execute_result"
    }
   ],
   "source": [
    "len(datos_NREL)"
   ]
  },
  {
   "cell_type": "markdown",
   "metadata": {},
   "source": [
    "## Análisis"
   ]
  },
  {
   "cell_type": "markdown",
   "metadata": {},
   "source": [
    "Para el análisis de los datos se pensó usar primero los datos de Santa Marta, pero los datos medidos en tierra (IDEAM) no cumplían la condición de tener diez años en muestras. De los datos disponibles, los **únicos** que cumplen con esta característica son: Medellín, Sucre, Uribia y Valledupar. "
   ]
  },
  {
   "cell_type": "markdown",
   "metadata": {},
   "source": [
    "###### Tabla 1. Resumen de errores comparados para diferentes tiempos corregidos y sin corregir.\n",
    "Lugar    | Año  | Meses | MBE | RMSE | PVALUE| Corregido \n",
    "---------|------|-------|-----|------|-------|----------\n",
    "Medellin | 2010 | 3-12  | 11% | 5%   | 0.5   | NO  "
   ]
  },
  {
   "cell_type": "code",
   "execution_count": null,
   "metadata": {
    "collapsed": true
   },
   "outputs": [],
   "source": []
  },
  {
   "cell_type": "code",
   "execution_count": null,
   "metadata": {
    "collapsed": true
   },
   "outputs": [],
   "source": []
  },
  {
   "cell_type": "code",
   "execution_count": null,
   "metadata": {
    "collapsed": true
   },
   "outputs": [],
   "source": []
  },
  {
   "cell_type": "code",
   "execution_count": null,
   "metadata": {
    "collapsed": true
   },
   "outputs": [],
   "source": []
  }
 ],
 "metadata": {
  "kernel_info": {
   "name": "python3"
  },
  "kernelspec": {
   "display_name": "Python 3",
   "language": "python",
   "name": "python3"
  },
  "language_info": {
   "codemirror_mode": {
    "name": "ipython",
    "version": 3
   },
   "file_extension": ".py",
   "mimetype": "text/x-python",
   "name": "python",
   "nbconvert_exporter": "python",
   "pygments_lexer": "ipython3",
   "version": "3.6.3"
  },
  "nteract": {
   "version": "0.6.2"
  }
 },
 "nbformat": 4,
 "nbformat_minor": 4
}
