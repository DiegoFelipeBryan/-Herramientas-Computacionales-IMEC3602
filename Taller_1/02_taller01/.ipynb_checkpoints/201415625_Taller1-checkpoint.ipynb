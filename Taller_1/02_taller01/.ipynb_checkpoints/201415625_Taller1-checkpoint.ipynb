{
 "cells": [
  {
   "cell_type": "markdown",
   "metadata": {
    "inputHidden": false,
    "outputHidden": false
   },
   "source": [
    "# Taller 1\n",
    "## Diego Felipe Bryan \\\\ 201425625\n",
    "### Teniendo en cuenta el código anterior quiero:\n",
    "#### 1. Hacer una función o programa que haga el cálculo de la ENFICC.\n",
    "#### 2. Función que devuelva la gráfica comparando la distribución de energía de diferentes series \n",
    "#### 3. Función para Medición-Correlación-Predicción que recibe IDEAM recortada, usa los datos de NREL y devuelve algo parecidoa IDEAM completa\n",
    "#### 4. Funciones para calcular RMSEn, MBE, KSI% entre dos funciones y devuelve el error indicado.\n",
    "#### 5. Análisis de eficacia para series de tiempo de diferentes localizaciones. Analizando como afecta la cantidad de datos y el año seleccionado.\n",
    "#### 6. Es para el viernes 16 de Febrero de 2018 antes de las 5 pm."
   ]
  },
  {
   "cell_type": "markdown",
   "metadata": {},
   "source": [
    "## Función EINFICC 99%"
   ]
  },
  {
   "cell_type": "code",
   "execution_count": 1,
   "metadata": {},
   "outputs": [
    {
     "name": "stdout",
     "output_type": "stream",
     "text": [
      "Populating the interactive namespace from numpy and matplotlib\n"
     ]
    }
   ],
   "source": [
    "import os #comandos operativos (se usa para unir las rutas)\n",
    "import pandas as pd #se usa para manejar los datos -leer y crear-\n",
    "#importa numpy  y matplotlib\n",
    "%pylab inline "
   ]
  },
  {
   "cell_type": "code",
   "execution_count": 45,
   "metadata": {
    "collapsed": true
   },
   "outputs": [],
   "source": [
    "r = 1\n",
    "base_dir = os.path.join( '.','data') #Dirección a la carpeta data -La carpeta debe estar creada-\n",
    "output_dir = os.path.join( '.','output') #Dirección a la carpeta output -La carpeta debe estar creada-\n",
    "ciudad = 'Valledupar' #nombre del lugar a evaluar\n",
    "fuente = 'IDEAM'#origen de los datos, puede ser IDEAM o NREL\n",
    "serie_csv = os.path.join(base_dir,ciudad,fuente+'.csv') #Dirección completa de los datos a evaluar\n",
    "# Usa panda para leer la serie de datos\n",
    "serie_pd = pd.read_csv(serie_csv, sep = ';', encoding='latin-1') # Toca saber cómo estan organizados los datos\n",
    "fuenteSAT = 'NREL'\n",
    "serie_csv_sat = os.path.join(base_dir,ciudad,fuenteSAT+'.csv')\n",
    "sat = pd.read_csv(serie_csv_sat, sep = ';',encoding='latin-1')"
   ]
  },
  {
   "cell_type": "code",
   "execution_count": 3,
   "metadata": {
    "collapsed": true
   },
   "outputs": [],
   "source": [
    "def ghi_mensual(serie_horaria):\n",
    "    agnos = sorted(serie_horaria['AÑO'].unique()) #.unique me elimina los datos repetidos\n",
    "    ghi_df = pd.DataFrame(columns=[\"AÑO\", \"MES\", \"DIAS\", \"GHImes\"]) #Crea el dataframe para registrar los cálculos\n",
    "    for agno in agnos:\n",
    "        for mes in range(1,13):\n",
    "            nombre_energia = list(serie_horaria)[-1]\n",
    "            dias = sorted(serie_horaria[(serie_horaria['AÑO'] == agno)&(serie_horaria['MES'] == mes)][\"DIA\"].unique())\n",
    "            #.loc me localiza la carpeta\n",
    "            ghi_mes = serie_horaria.loc[((serie_horaria[\"AÑO\"] == agno)& (serie_horaria[\"MES\"] == mes)),nombre_energia].sum()/1000 \n",
    "            ghi_dict = {\"AÑO\":agno, \"MES\":mes, \"DIAS\":dias[-1],\"GHImes\":ghi_mes}\n",
    "            #.append agrega los datos que acabo de crear\n",
    "            ghi_df = ghi_df.append(ghi_dict, ignore_index=True)\n",
    "    return ghi_df\n",
    "def ghi_dia(serie_ghi_mensual):\n",
    "    agnos = sorted(serie_ghi_mensual['AÑO'].unique())\n",
    "    ghi_df = pd.DataFrame(columns=[\"AÑO\", \"MES\", \"GHIdiario\"])\n",
    "    for agno in agnos:\n",
    "        for mes in range(1,13):\n",
    "            dias = serie_ghi_mensual.loc[((serie_ghi_mensual[\"AÑO\"] == agno)&(serie_ghi_mensual[\"MES\"] == mes)),\"DIAS\"].item()\n",
    "            ghi_diario = serie_ghi_mensual.loc[((serie_ghi_mensual[\"AÑO\"] == agno)& (serie_ghi_mensual[\"MES\"] == mes)),\"GHImes\"].item()/dias\n",
    "            ghi_dict = {\"AÑO\":agno, \"MES\":mes, \"GHIdiario\":ghi_diario}\n",
    "            ghi_df = ghi_df.append(ghi_dict, ignore_index=True)\n",
    "    return ghi_df"
   ]
  },
  {
   "cell_type": "code",
   "execution_count": 4,
   "metadata": {},
   "outputs": [],
   "source": [
    "def ENFICC (serie):\n",
    "    mensual = ghi_mensual(serie)\n",
    "    diario = ghi_dia(mensual)\n",
    "    datos = sorted(diario[\"GHIdiario\"]) #no me interesa en qué mes ocurre\n",
    "    #solo interesa la distribución de los datos\n",
    "    percentil = 0.01\n",
    "    enficc = diario.quantile(q=percentil,numeric_only=True)[\"GHIdiario\"]\n",
    "    \n",
    "    return print('La ENFICC 99% es: ', enficc)\n"
   ]
  },
  {
   "cell_type": "code",
   "execution_count": 5,
   "metadata": {
    "collapsed": true
   },
   "outputs": [],
   "source": [
    "mensual = ghi_mensual(serie_pd)\n",
    "diario = ghi_dia(mensual)\n",
    "datos_IDEAM = sorted(diario[\"GHIdiario\"])"
   ]
  },
  {
   "cell_type": "code",
   "execution_count": 6,
   "metadata": {},
   "outputs": [
    {
     "name": "stdout",
     "output_type": "stream",
     "text": [
      "La ENFICC 99% es:  4.56900737661\n"
     ]
    }
   ],
   "source": [
    "ENFICC(serie_pd)"
   ]
  },
  {
   "cell_type": "markdown",
   "metadata": {},
   "source": [
    "## Gráficas"
   ]
  },
  {
   "cell_type": "code",
   "execution_count": 49,
   "metadata": {
    "collapsed": true,
    "inputHidden": false,
    "outputHidden": false
   },
   "outputs": [],
   "source": [
    "def grafica3(objetivo,satelite,corregida,NG):\n",
    "    pylab.xlabel(\"Datos\")\n",
    "    pylab.ylabel(\"Energía/Energía Base IDEAM\") #la energía base es el promedio mínimo producido\n",
    "    minimo = objetivo[0]\n",
    "    x1 = list(range(len(objetivo)))\n",
    "    y1 = objetivo/minimo\n",
    "    pylab.plot(x1,y1,'-k', label='IDEAM')\n",
    "    x2 = list(range(len(satelite)))\n",
    "    y2 = satelite/minimo\n",
    "    pylab.plot(x2,y2,'-b', label='NREL')\n",
    "    x3 = list(range(len(corregida)))\n",
    "    y3 = corregida/minimo\n",
    "    pylab.plot(x3,y3,'--r', label='CORREGIDA')\n",
    "    pylab.legend(loc='upper left')\n",
    "    pylab.savefig(os.path.join(output_dir,'valledupar_IDEAM'+str(NG)+'.png'), dpi=600)\n",
    "    \n",
    "    return pylab.show()\n",
    "    "
   ]
  },
  {
   "cell_type": "code",
   "execution_count": 35,
   "metadata": {
    "collapsed": true
   },
   "outputs": [],
   "source": [
    "mensual = ghi_mensual(sat)\n",
    "diario = ghi_dia(mensual)\n",
    "datos_NREL = sorted(diario[\"GHIdiario\"])"
   ]
  },
  {
   "cell_type": "markdown",
   "metadata": {},
   "source": [
    "## MCP"
   ]
  },
  {
   "cell_type": "code",
   "execution_count": 10,
   "metadata": {
    "collapsed": true
   },
   "outputs": [],
   "source": [
    "corta = serie_pd[serie_pd['AÑO']==2010]\n"
   ]
  },
  {
   "cell_type": "code",
   "execution_count": 40,
   "metadata": {
    "collapsed": true
   },
   "outputs": [],
   "source": [
    "def MCP (objetivo,larga):\n",
    "    correccion = pd.DataFrame(columns=[\"AÑO\", \"MES\", \"DIA\", \"HORA\", \"NREL\"])\n",
    "    objetivo_barra = objetivo['IDEAM'].sum()/len(objetivo)\n",
    "    comun = larga[(larga['AÑO']>=objetivo.iloc[0,0])&(larga['AÑO']<=objetivo.iloc[-1,0])]\n",
    "    comun_barra = comun['NREL'].sum()/len(comun)\n",
    "    objetivo_sigma = objetivo['IDEAM'].std()\n",
    "    comun_sigma = comun['NREL'].std()\n",
    "    for i in range(0,len(larga)):\n",
    "        ghi = objetivo_barra - (objetivo_sigma / comun_sigma)* comun_barra +  (objetivo_sigma / comun_sigma) * larga.iloc[i,4]\n",
    "        if larga.iloc[i,4] == 0:\n",
    "            ghi = 0\n",
    "        ano = larga.iloc[i,0]\n",
    "        mes = larga.iloc[i,1]\n",
    "        dia = larga.iloc[i,2]\n",
    "        hora = larga.iloc[i,3]\n",
    "        cor = {\"AÑO\":ano, \"MES\":mes, \"DIA\":dia, \"HORA\":hora, \"NREL\":ghi}\n",
    "        correccion = correccion.append(cor, ignore_index=True)\n",
    "    return correccion\n",
    "    "
   ]
  },
  {
   "cell_type": "code",
   "execution_count": 41,
   "metadata": {},
   "outputs": [],
   "source": [
    "corregida=MCP(corta,sat)\n"
   ]
  },
  {
   "cell_type": "code",
   "execution_count": 42,
   "metadata": {},
   "outputs": [],
   "source": [
    "mensual = ghi_mensual(corregida)\n",
    "diario = ghi_dia(mensual)\n",
    "datos_CORREGIDOS = sorted(diario[\"GHIdiario\"])\n"
   ]
  },
  {
   "cell_type": "code",
   "execution_count": 50,
   "metadata": {},
   "outputs": [
    {
     "data": {
      "image/png": "[encoded data removed]",
      "text/plain": [
       "<matplotlib.figure.Figure at 0xb44772b358>"
      ]
     },
     "metadata": {},
     "output_type": "display_data"
    }
   ],
   "source": [
    "grafica3(datos_IDEAM,datos_NREL, datos_CORREGIDOS,r)"
   ]
  },
  {
   "cell_type": "markdown",
   "metadata": {
    "collapsed": true
   },
   "source": [
    "## Cálculos de error"
   ]
  },
  {
   "cell_type": "code",
   "execution_count": null,
   "metadata": {
    "collapsed": true
   },
   "outputs": [],
   "source": [
    "def MBE (serie1,serie2): #Donde la serie1 es la observada en tierra y la serie 2 es la modelada del satélite\n",
    "    serie2 = serie2[(serie2['AÑO']>=serie1.iloc[0,0])]\n",
    "    error = 0\n",
    "    sumatoria = 0\n",
    "    for i in range(0,len(serie1)):\n",
    "        ghi_obs = serie1.iloc[i,4]\n",
    "        ghi_mod = serie2.iloc[i,4]\n",
    "        resta = ghi_obs - ghi_mod\n",
    "        error = error + resta\n",
    "        sumatoria = sumatoria + ghi_obs\n",
    "        \n",
    "    result = error / sumatoria \n",
    "    \n",
    "    return print('El MBE es:',\"{:.2%}\".format(result))\n",
    "   \n",
    "        \n",
    "        \n",
    "    \n",
    "    "
   ]
  },
  {
   "cell_type": "code",
   "execution_count": null,
   "metadata": {},
   "outputs": [],
   "source": [
    "MBE(serie_pd,sat)"
   ]
  },
  {
   "cell_type": "code",
   "execution_count": null,
   "metadata": {
    "collapsed": true
   },
   "outputs": [],
   "source": [
    "def RMSE (serie1,serie2): #Donde la serie1 es la observada en tierra y la serie 2 es la modelada del satélite\n",
    "    serie2 = serie2[(serie2['AÑO']>=serie1.iloc[0,0])&(serie2['AÑO']<=serie1.iloc[0,-1])]\n",
    "    error = 0\n",
    "    sumatoria = 0\n",
    "    for i in range(0,len(serie1)):\n",
    "        ghi_obs = serie1.iloc[i,4]\n",
    "        ghi_mod = serie2.iloc[i,4]\n",
    "        resta = (ghi_obs - ghi_mod)**2\n",
    "        error = error + resta\n",
    "        sumatoria = sumatoria + ghi_obs\n",
    "        \n",
    "    error = sqrt(error/len(serie1))\n",
    "    result = error / (serie1['IDEAM'][serie1['IDEAM'].idxmax()]-serie1['IDEAM'][serie1['IDEAM'].idxmin()])  \n",
    "    \n",
    "    return print('El RMSE es:',\"{:.2%}\".format(result))\n",
    "   \n"
   ]
  },
  {
   "cell_type": "code",
   "execution_count": null,
   "metadata": {},
   "outputs": [],
   "source": [
    "RMSE(serie_pd,sat)"
   ]
  },
  {
   "cell_type": "code",
   "execution_count": null,
   "metadata": {
    "collapsed": true
   },
   "outputs": [],
   "source": [
    "from scipy import stats"
   ]
  },
  {
   "cell_type": "code",
   "execution_count": null,
   "metadata": {
    "collapsed": true
   },
   "outputs": [],
   "source": [
    "# Usar .stats.ks_2samp como KSI con tiempos equivalentes\n",
    "def KSI (serie1, serie2):\n",
    "    serie2 = serie2[(serie2['AÑO']>=serie1.iloc[0,0])&(serie2['AÑO']<=serie1.iloc[-1,0])]\n",
    "    \n",
    "    error = stats.ks_2samp(serie1['IDEAM'], serie2['NREL'])\n",
    "    return print('El pvalue es:',error[-1])\n",
    "\n",
    "    "
   ]
  },
  {
   "cell_type": "code",
   "execution_count": null,
   "metadata": {},
   "outputs": [],
   "source": [
    "KSI(serie_pd,sat)"
   ]
  },
  {
   "cell_type": "code",
   "execution_count": null,
   "metadata": {
    "collapsed": true
   },
   "outputs": [],
   "source": []
  },
  {
   "cell_type": "code",
   "execution_count": null,
   "metadata": {
    "collapsed": true
   },
   "outputs": [],
   "source": []
  },
  {
   "cell_type": "code",
   "execution_count": null,
   "metadata": {
    "collapsed": true
   },
   "outputs": [],
   "source": []
  }
 ],
 "metadata": {
  "kernel_info": {
   "name": "python3"
  },
  "kernelspec": {
   "display_name": "Python 3",
   "language": "python",
   "name": "python3"
  },
  "language_info": {
   "codemirror_mode": {
    "name": "ipython",
    "version": 3
   },
   "file_extension": ".py",
   "mimetype": "text/x-python",
   "name": "python",
   "nbconvert_exporter": "python",
   "pygments_lexer": "ipython3",
   "version": "3.6.3"
  },
  "nteract": {
   "version": "0.6.2"
  }
 },
 "nbformat": 4,
 "nbformat_minor": 4
}
