{
 "cells": [
  {
   "cell_type": "markdown",
   "metadata": {
    "inputHidden": false,
    "outputHidden": false
   },
   "source": [
    "# Taller 1\n",
    "## Diego Felipe Bryan \\\\ 201425625\n",
    "### Teniendo en cuenta el código de referencia quiero:\n",
    "#### 1. Hacer una función o programa que haga el cálculo de la ENFICC _según el enunciado las series entran con datos de 10 años en resolución horaria_.\n",
    "#### 2. Función que devuelva la gráfica comparando la distribución de energía de diferentes series, <ins>según el enunciado las series entran con datos de 10 años en resolución horaria, pero la gráfica muestra promedios mensuales ordenados</ins>.\n",
    "#### 3. Función para Medición-Correlación-Predicción que recibe IDEAM recortada, usa los datos de NREL y devuelve algo parecido a IDEAM completa.<ins>según el enunciado debe entrar una serie corta y la serie satelital</ins>.\n",
    "#### 4. Funciones para calcular RMSEn, MBE, KSI% entre dos funciones y devuelve el error indicado. <ins>según el enunciado las series entran con datos de 10 años en resolución horaria, pero la gráfica muestra promedios mensuales ordenados pero en clase se compara punto a punto las series ordenadas que se graficaron en el punto 2</ins>.\n",
    "#### 5. Análisis de eficacia para series de tiempo de <ins>diferentes localizaciones</ins>. Analizando como afecta <ins>la cantidad de datos y el año seleccionado</ins>.\n",
    "#### 6. Es para el viernes 16 de Febrero de 2018 antes de las 5 pm."
   ]
  },
  {
   "cell_type": "markdown",
   "metadata": {},
   "source": [
    "## 1. Función ENFICC 99%"
   ]
  },
  {
   "cell_type": "code",
   "execution_count": 1,
   "metadata": {},
   "outputs": [
    {
     "name": "stdout",
     "output_type": "stream",
     "text": [
      "Populating the interactive namespace from numpy and matplotlib\n"
     ]
    }
   ],
   "source": [
    "#Comandos operativos (se usa para unir las rutas)\n",
    "import os \n",
    "\n",
    "#Se usa para manejar los datos -leer, crear, modificar, etc.\n",
    "import pandas as pd \n",
    "\n",
    "\n",
    "#Importa numpy  y matplotlib\n",
    "%pylab inline \n",
    "\n",
    "import matplotlib.pyplot as plt\n",
    "import matplotlib.image as mpimg\n"
   ]
  },
  {
   "cell_type": "code",
   "execution_count": 2,
   "metadata": {
    "collapsed": true
   },
   "outputs": [],
   "source": [
    "\n",
    "\n",
    "\n",
    "#Para importar una imagen\n",
    "%matplotlib inline\n",
    "import matplotlib.pyplot as plt\n",
    "import matplotlib.image as mpimg\n",
    "import numpy as np\n"
   ]
  },
  {
   "cell_type": "code",
   "execution_count": 3,
   "metadata": {
    "collapsed": true
   },
   "outputs": [],
   "source": [
    "#Dirección a la carpeta data -La carpeta debe estar creada-\n",
    "base_dir = os.path.join( '.','data') \n",
    "\n",
    "#Dirección a la carpeta output -La carpeta debe estar creada-\n",
    "output_dir = os.path.join( '.','output') \n",
    "\n",
    "#Nombre del lugar a evaluar\n",
    "ciudad = 'Valledupar' \n",
    "\n",
    "#Origen de los datos, puede ser IDEAM o NREL\n",
    "fuente = 'IDEAM'\n",
    "fuenteSAT = 'NREL'\n",
    "\n",
    "#Dirección completa de los datos a evaluar\n",
    "serie_csv = os.path.join(base_dir,ciudad,fuente+'.csv') \n",
    "serie_csv_sat = os.path.join(base_dir,ciudad,fuenteSAT+'.csv')\n",
    "\n",
    "# Usa panda para leer la serie de datos\n",
    "# Toca saber cómo estan organizados los datos\n",
    "serie_pd = pd.read_csv(serie_csv, sep = ';', encoding='latin-1') \n",
    "sat = pd.read_csv(serie_csv_sat, sep = ';',encoding='latin-1')"
   ]
  },
  {
   "cell_type": "code",
   "execution_count": 4,
   "metadata": {
    "collapsed": true
   },
   "outputs": [],
   "source": [
    "#Total de energía medida en un mes [kW]\n",
    "def ghi_mensual(serie_horaria):\n",
    "    #.unique me elimina los datos repetidos\n",
    "    agnos = sorted(serie_horaria['AÑO'].unique())\n",
    "    \n",
    "    #Crea el dataframe para registrar los cálculos\n",
    "    ghi_df = pd.DataFrame(columns=[\"AÑO\", \"MES\", \"DIAS\", \"GHImes\"]) \n",
    "    \n",
    "    for agno in agnos:\n",
    "        for mes in range(1,13):\n",
    "            #Elije el nombre de la última columna sin tener que conocerlo\n",
    "            nombre_energia = list(serie_horaria)[-1]\n",
    "            dias = sorted(serie_horaria[(serie_horaria['AÑO'] == agno)&(serie_horaria['MES'] == mes)][\"DIA\"].unique())\n",
    "            \n",
    "            #.loc me localiza el mes exacto\n",
    "            ghi_mes = serie_horaria.loc[((serie_horaria[\"AÑO\"] == agno)& (serie_horaria[\"MES\"] == mes)),nombre_energia].sum()/1000 \n",
    "            \n",
    "            #Formato con los valores estudiados que se van a agregar\n",
    "            ghi_dict = {\"AÑO\":agno, \"MES\":mes, \"DIAS\":dias[-1],\"GHImes\":ghi_mes}\n",
    "            \n",
    "            #.append agrega los datos que acabo de crear\n",
    "            ghi_df = ghi_df.append(ghi_dict, ignore_index=True)\n",
    "    return ghi_df\n",
    "\n",
    "#Promedio diario de energía que se crea en cada mes \n",
    "def ghi_dia(serie_ghi_mensual):\n",
    "    agnos = sorted(serie_ghi_mensual['AÑO'].unique())\n",
    "    ghi_df = pd.DataFrame(columns=[\"AÑO\", \"MES\", \"GHIdiario\"])\n",
    "    for agno in agnos:\n",
    "        for mes in range(1,13):\n",
    "            dias = serie_ghi_mensual.loc[((serie_ghi_mensual[\"AÑO\"] == agno)&(serie_ghi_mensual[\"MES\"] == mes)),\"DIAS\"].item()\n",
    "            ghi_diario = serie_ghi_mensual.loc[((serie_ghi_mensual[\"AÑO\"] == agno)& (serie_ghi_mensual[\"MES\"] == mes)),\"GHImes\"].item()/dias\n",
    "            ghi_dict = {\"AÑO\":agno, \"MES\":mes, \"GHIdiario\":ghi_diario}\n",
    "            ghi_df = ghi_df.append(ghi_dict, ignore_index=True)\n",
    "    return ghi_df"
   ]
  },
  {
   "cell_type": "code",
   "execution_count": 5,
   "metadata": {
    "collapsed": true
   },
   "outputs": [],
   "source": [
    "#Función que me describre el parametro de la ENFICC\n",
    "def ENFICC (serie):\n",
    "    mensual = ghi_mensual(serie)\n",
    "    diario = ghi_dia(mensual)\n",
    "    \n",
    "        \n",
    "    #Qué parte de la población voy a excluir para tener certeza del 99%\n",
    "    percentil = 0.01\n",
    "    \n",
    "    #Qué valor me cumple con ese 99% de certeza \n",
    "    enficc = diario.quantile(q=percentil,numeric_only=True)[\"GHIdiario\"]\n",
    "    return print('La ENFICC 99% es:', enficc)\n"
   ]
  },
  {
   "cell_type": "code",
   "execution_count": 6,
   "metadata": {
    "collapsed": true
   },
   "outputs": [],
   "source": [
    "#PDO = Promedio Diario Ordenado para la realización de gráficas y comparación de errores\n",
    "def PDO(serie):\n",
    "    \n",
    "    mensual = ghi_mensual(serie)\n",
    "    diario = ghi_dia(mensual)\n",
    "    \n",
    "    #No me interesa en qué mes ocurre\n",
    "    #Solo interesa la distribución de los datos\n",
    "    datos = sorted(diario[\"GHIdiario\"]) \n",
    "    return datos\n"
   ]
  },
  {
   "cell_type": "code",
   "execution_count": 7,
   "metadata": {},
   "outputs": [
    {
     "name": "stdout",
     "output_type": "stream",
     "text": [
      "La ENFICC 99% es: 4.56900737661\n",
      "La ENFICC 99% es: 5.06265316667\n"
     ]
    }
   ],
   "source": [
    "#ENFICC prueba de las series de valledupar para los datos en tierra y satelite respectivamente\n",
    "ENFICC(serie_pd)\n",
    "ENFICC(sat)"
   ]
  },
  {
   "cell_type": "markdown",
   "metadata": {},
   "source": [
    "## 2. Gráficas"
   ]
  },
  {
   "cell_type": "code",
   "execution_count": 8,
   "metadata": {
    "collapsed": true,
    "inputHidden": false,
    "outputHidden": false
   },
   "outputs": [],
   "source": [
    "#Función para graficar y comparar las series IDEAM, NREL y NREL corregidas\n",
    "#Entran 3 series de 10 años en resolución horaria, la de mediciones en tierra, la satelital, y la satelital corrida. Además\n",
    "#se debe incluir la localización y los peridos que se eligieron de referencia de IDEAM\n",
    "def grafica3(objetivo,satelite,corregida,lugar,detalle):\n",
    "    #Nombra los ejes\n",
    "    pylab.xlabel(\"Datos\")\n",
    "    pylab.ylabel(\"Energía/Energía Base IDEAM\") \n",
    "    \n",
    "    #Devuelve la lista de promedios diarios ordenados que son los que se grafican en la figura 38 del protocolo\n",
    "    objetivo = PDO(objetivo)\n",
    "    satelite = PDO(satelite)\n",
    "    corregida = PDO(corregida)\n",
    "    \n",
    "    #La energía base es el promedio mínimo producido en la mediciones en tierra (IDEAM)\n",
    "    minimo = objetivo[0]\n",
    "    \n",
    "    #Valores x y y a graficar de cada serie a comparar\n",
    "    x1 = list(range(len(objetivo)))\n",
    "    y1 = objetivo/minimo\n",
    "    pylab.plot(x1,y1,'-k', label='IDEAM')\n",
    "    x2 = list(range(len(satelite)))\n",
    "    y2 = satelite/minimo\n",
    "    pylab.plot(x2,y2,'-b', label='NREL')\n",
    "    x3 = list(range(len(corregida)))\n",
    "    y3 = corregida/minimo\n",
    "    pylab.plot(x3,y3,'--r', label='CORREGIDA')\n",
    "    pylab.legend(loc='upper left')\n",
    "    \n",
    "    #Dirección para guardar la imagen\n",
    "    pylab.savefig(os.path.join(output_dir,lugar+'_IDEAM'+detalle+'.png'), dpi=80)\n",
    "    \n",
    "    return pylab.show()\n",
    "    "
   ]
  },
  {
   "cell_type": "markdown",
   "metadata": {},
   "source": [
    "## 3. MCP"
   ]
  },
  {
   "cell_type": "code",
   "execution_count": 9,
   "metadata": {
    "collapsed": true
   },
   "outputs": [],
   "source": [
    "#Función para acortar una serie dentro de un año especifico y un rango de meses.\n",
    "def restringir(serie,ano,mes1,mes2):\n",
    "    serie = serie[(serie['AÑO'] == ano)&(serie['MES'] >= mes1)&(serie['MES'] <= mes2)]\n",
    "    return serie\n",
    "\n",
    "#Función para que la serie2 evalue los datos en la misma temporalidad de la serie1\n",
    "def recortar(serie1,serie2):\n",
    "    serie2 = serie2[(serie2['AÑO']>=serie1.iloc[0,0])&(serie2['AÑO']<=serie1.iloc[-1,0])\n",
    "                 &(serie2['MES']>=serie1.iloc[0,1])&(serie2['MES']<=serie1.iloc[-1,1])]\n",
    "    return serie2\n",
    "    "
   ]
  },
  {
   "cell_type": "code",
   "execution_count": 10,
   "metadata": {
    "collapsed": true
   },
   "outputs": [],
   "source": [
    "#Para que no se modifiquen los datos previamente establecidos se hace un cambio de las variables\n",
    "corta = restringir(serie_pd,2010,1,12)\n"
   ]
  },
  {
   "cell_type": "code",
   "execution_count": 11,
   "metadata": {
    "collapsed": true
   },
   "outputs": [],
   "source": [
    "#Medición-Correlación-Predicción recibe los datos medidos en tierra (cortos) y los datos satelitales.\n",
    "def MCP(objetivo,larga):\n",
    "    correct = larga.copy()\n",
    "    \n",
    "    #Recorta la serie satelital al periodo en común con los datos de tierro\n",
    "    comun = recortar(objetivo,correct)\n",
    "    \n",
    "    #Cálculo de constantes en la función\n",
    "    objetivo_barra = objetivo['IDEAM'].mean()\n",
    "    comun_barra = comun['NREL'].mean()\n",
    "    objetivo_sigma = objetivo['IDEAM'].std()\n",
    "    comun_sigma = comun['NREL'].std()\n",
    "    \n",
    "    #Función aplicada a todos los datos medidos por el satelite\n",
    "    ghi = (objetivo_barra - (objetivo_sigma/comun_sigma) * comun_barra) + (objetivo_sigma/comun_sigma)*correct['NREL']\n",
    "    \n",
    "    #Los datos que antes eran 0 se volvieron negativos entonces se corrigen con esto\n",
    "    ghi[ghi <= 0] =  0\n",
    "    \n",
    "    #Reemplaza la columna de energía medida con los datos corregidos\n",
    "    correct['NREL'] = ghi\n",
    "    return correct"
   ]
  },
  {
   "cell_type": "code",
   "execution_count": 12,
   "metadata": {
    "collapsed": true
   },
   "outputs": [],
   "source": [
    "corregida = MCP(corta,sat)"
   ]
  },
  {
   "cell_type": "code",
   "execution_count": 13,
   "metadata": {},
   "outputs": [
    {
     "name": "stdout",
     "output_type": "stream",
     "text": [
      "La ENFICC 99% es: 4.56900737661\n",
      "La ENFICC 99% es: 5.06265316667\n",
      "La ENFICC 99% es: 4.4688224469\n"
     ]
    }
   ],
   "source": [
    "#ENFICC prueba de las diferentes series de valledupar\n",
    "ENFICC(serie_pd) #IDEAM (medidas en tierra)\n",
    "ENFICC(sat)      #NREL (medidas satelitales)\n",
    "ENFICC(corregida)#NRELcr (medidas satelitales corregidas)"
   ]
  },
  {
   "cell_type": "code",
   "execution_count": 14,
   "metadata": {
    "collapsed": true
   },
   "outputs": [],
   "source": [
    "#Datos organizados de la serie IDEAM de valledupar\n",
    "datos_IDEAM = PDO(serie_pd)\n",
    "\n",
    "#Datos organizados de la serie NREL de valledupar\n",
    "datos_NREL = PDO(sat)\n",
    "\n",
    "#Datos organizados de la serie CORREGIDA NREL de valledupar \n",
    "datos_CORREGIDOS = PDO(corregida)"
   ]
  },
  {
   "cell_type": "code",
   "execution_count": 15,
   "metadata": {},
   "outputs": [
    {
     "data": {
      "image/png": "[encoded data removed]",
      "text/plain": [
       "<matplotlib.figure.Figure at 0xefa48200f0>"
      ]
     },
     "metadata": {},
     "output_type": "display_data"
    }
   ],
   "source": [
    "#Voy a usar el det para cambiar el nombre del archivo de imagen ('AÑO-MES1-MES2')\n",
    "det = '(2010-1-12)'\n",
    "grafica3(serie_pd,sat, corregida,ciudad,det)"
   ]
  },
  {
   "cell_type": "markdown",
   "metadata": {
    "collapsed": true
   },
   "source": [
    "## 4. Cálculos de error"
   ]
  },
  {
   "cell_type": "code",
   "execution_count": 16,
   "metadata": {
    "collapsed": true
   },
   "outputs": [],
   "source": [
    "#Donde la serie1 es la observada en tierra y la serie 2 es la modelada del satélite.\n",
    "#Deben entrar dos series de datos de 10 años en resolución horaria.\n",
    "def MBE (serie1,serie2): \n",
    "    #Hago que las listas queden del mismo tamaño \n",
    "    serie2 = recortar(serie1,serie2)\n",
    "    \n",
    "    #Cambio a los datos ordenados que quiero comparar\n",
    "    serie1 = PDO(serie1)\n",
    "    serie2 = PDO(serie2)\n",
    "    \n",
    "    #Cálculo de error MBE según protocolo\n",
    "    suma1 = sum(serie1)\n",
    "    suma2 = sum(serie2)\n",
    "    error = suma2-suma1\n",
    "    result = error / suma1\n",
    "    \n",
    "        \n",
    "    \n",
    "    return print('El MBE es:',\"{:.2%}\".format(result))\n",
    "   "
   ]
  },
  {
   "cell_type": "code",
   "execution_count": 17,
   "metadata": {},
   "outputs": [
    {
     "name": "stdout",
     "output_type": "stream",
     "text": [
      "El MBE es: 11.51%\n",
      "El MBE es: -1.25%\n"
     ]
    }
   ],
   "source": [
    "MBE(serie_pd,sat)\n",
    "MBE(serie_pd,corregida)\n"
   ]
  },
  {
   "cell_type": "code",
   "execution_count": 18,
   "metadata": {
    "collapsed": true
   },
   "outputs": [],
   "source": [
    "#Donde la serie1 es la observada en tierra y la serie 2 es la modelada del satélite\n",
    "##Deben entrar dos series de datos de 10 años en resolución horaria.\n",
    "def RMSE (serie1,serie2): \n",
    "    #Hago que las listas queden del mismo tamaño \n",
    "    serie2 = recortar(serie1,serie2)\n",
    "    \n",
    "    #Cambio a los datos ordenados que quiero comparar\n",
    "    serie1 = PDO(serie1)\n",
    "    serie2 = PDO(serie2)\n",
    "    \n",
    "    #Cálculo de error RMSE según protocolo\n",
    "    error = 0\n",
    "    sumatoria = 0\n",
    "    for i in range(0,len(serie1)):\n",
    "        ghi_obs = serie1[i]\n",
    "        ghi_mod = serie2[i]\n",
    "        resta = (ghi_obs - ghi_mod)**2\n",
    "        error = error + resta\n",
    "        sumatoria = sumatoria + ghi_obs\n",
    "        \n",
    "    error = sqrt(error/len(serie1))\n",
    "    result = error / (serie1[-1]-serie1[0])  \n",
    "    \n",
    "    return print('El RMSE es:',\"{:.2%}\".format(result))\n",
    "   \n"
   ]
  },
  {
   "cell_type": "code",
   "execution_count": 19,
   "metadata": {},
   "outputs": [
    {
     "name": "stdout",
     "output_type": "stream",
     "text": [
      "El RMSE es: 26.95%\n",
      "El RMSE es: 7.29%\n"
     ]
    }
   ],
   "source": [
    "RMSE(serie_pd,sat)\n",
    "RMSE(serie_pd,corregida)\n"
   ]
  },
  {
   "cell_type": "code",
   "execution_count": 20,
   "metadata": {
    "collapsed": true
   },
   "outputs": [],
   "source": [
    "#Importa la libreria para comparar las series\n",
    "from scipy import stats"
   ]
  },
  {
   "cell_type": "code",
   "execution_count": 21,
   "metadata": {
    "collapsed": true
   },
   "outputs": [],
   "source": [
    "# Usar .stats.ks_2samp como KSI con datos equivalentes\n",
    "#Deben entrar dos series de datos de 10 años en resolución horaria.\n",
    "def KSI (serie1, serie2):\n",
    "    #Hago que las listas queden del mismo tamaño \n",
    "    serie2 = recortar(serie1,serie2)\n",
    "    \n",
    "    #Cambio a los datos ordenados que quiero comparar\n",
    "    serie1 = PDO(serie1)\n",
    "    serie2 = PDO(serie2)\n",
    "    \n",
    "    #Cálculo de error KSI según lo acordado en clase\n",
    "    error = stats.ks_2samp(serie1, serie2)\n",
    "    return print('El pvalue es:',\"{:.2%}\".format(error[-1]))\n",
    "\n",
    "    "
   ]
  },
  {
   "cell_type": "code",
   "execution_count": 22,
   "metadata": {},
   "outputs": [
    {
     "name": "stdout",
     "output_type": "stream",
     "text": [
      "El pvalue es: 0.00%\n",
      "El pvalue es: 45.97%\n"
     ]
    }
   ],
   "source": [
    "KSI(serie_pd,sat)\n",
    "KSI(serie_pd,corregida)"
   ]
  },
  {
   "cell_type": "markdown",
   "metadata": {},
   "source": [
    "## Análisis"
   ]
  },
  {
   "cell_type": "markdown",
   "metadata": {},
   "source": [
    "Para el análisis de los datos se pensó usar primero los datos de Santa Marta, pero los datos medidos en tierra (IDEAM) no cumplían la condición de tener diez años en muestras. De los datos disponibles, los **únicos** que cumplen con esta característica son: Medellín, Sucre, Uribia y Valledupar. Por lo tanto se hace un análisis inicial comparando la diferencia entre los resultados del método de corrección **dependiendo la localización** para todos los lugares que cumplen con la condición y en el primer año de medición que fue el año 2006."
   ]
  },
  {
   "cell_type": "markdown",
   "metadata": {},
   "source": [
    "###### Tabla 1. Resumen de errores comparados para diferentes lugares cuyos datos han sido corregidos.\n",
    "Lugar      | Año  | Meses  | MBE   |  RMSE  |  PVALUE  |\n",
    "-----------|------|--------|-------|--------|----------|\n",
    "Medellín   | 2006 |  1-12  | 0.93% |  5.37% | 45.97%   |\n",
    "Sucre      | 2006 |  1-12  | 6.77% | 13.38% |  0.59%   |\n",
    "Uribia     | 2006 |  1-12  | 2.68% |  4.99% |  1.39%   |\n",
    "Valledupar | 2006 |  1-12  | 3.36% |  9.92% |  0.23%   |"
   ]
  },
  {
   "attachments": {},
   "cell_type": "markdown",
   "metadata": {
    "collapsed": true
   },
   "source": [
    "Una vez realizada la corrección para cada localización se encontró la serie que mejor se ajusta a los datos medidos en tierra es Medellín, luego le sigue Uribia, luego Valledupar y por último sucre. Esto puede ser debido a la variabilidad  de los datos en cada lugar. Esta variabilidad se puede apreciar en las siguientes gráficas que muestran el promedio de energía diaria medida, dependiendo de cada mes. En un intento de normalizar la gráfica todos los datos fueron dividos en la energía mínima medidaen tierra. De estos, los lugares que presentaron menor variabilidad fueron Valledupar, luego Medellín, Uribia y el que tuvo la mayor variabilidad fue Sucre.\n",
    "\n"
   ]
  },
  {
   "attachments": {
    "image.png": {
     "image/png": "[encoded data removed]"
    }
   },
   "cell_type": "markdown",
   "metadata": {
    "collapsed": true
   },
   "source": [
    "##### Figura 1. Promedio diario medido en tierra (IDEAM), en satelite (NREL) y corregido. 1) Medellín 2)Sucre 3)Uribia 4) Valledupar\n",
    "1) ![image.png](attachment:image.png)\n",
    "2) ![image.png](attachment:image.png)\n",
    "3) ![image.png](attachment:image.png)\n",
    "4) ![image.png](attachment:image.png)"
   ]
  },
  {
   "cell_type": "markdown",
   "metadata": {
    "collapsed": true
   },
   "source": [
    "Lugar    | Año  | Meses | MBE | RMSE | PVALUE| Corregido \n",
    "---------|------|-------|-----|------|-------|----------\n",
    "Medellin | 2010 | 3-12  | 11% | 5%   | 0.5   | NO  "
   ]
  },
  {
   "cell_type": "markdown",
   "metadata": {
    "collapsed": true
   },
   "source": [
    "## Anexos"
   ]
  },
  {
   "cell_type": "markdown",
   "metadata": {},
   "source": [
    "Para el análisis de diferentes lugares:"
   ]
  },
  {
   "cell_type": "code",
   "execution_count": 23,
   "metadata": {
    "collapsed": true
   },
   "outputs": [],
   "source": [
    "ciudad1 = 'Medellin' \n",
    "ciudad2 = 'Sucre' \n",
    "ciudad3 = 'Uribia' \n",
    "ciudad4 = 'Valledupar' \n",
    "\n",
    "\n",
    "fuente = 'IDEAM'\n",
    "fuenteSAT = 'NREL'\n",
    "\n",
    "serie_csv1 = os.path.join(base_dir,ciudad1,fuente+'.csv') \n",
    "serie_csv2 = os.path.join(base_dir,ciudad2,fuente+'.csv') \n",
    "serie_csv3 = os.path.join(base_dir,ciudad3,fuente+'.csv') \n",
    "serie_csv4 = os.path.join(base_dir,ciudad4,fuente+'.csv') \n",
    "\n",
    "serie_csv_sat1 = os.path.join(base_dir,ciudad1,fuenteSAT+'.csv')\n",
    "serie_csv_sat2 = os.path.join(base_dir,ciudad2,fuenteSAT+'.csv')\n",
    "serie_csv_sat3 = os.path.join(base_dir,ciudad3,fuenteSAT+'.csv')\n",
    "serie_csv_sat4 = os.path.join(base_dir,ciudad4,fuenteSAT+'.csv')\n",
    "\n",
    "\n",
    "terra1 = pd.read_csv(serie_csv1, sep = ';', encoding='latin-1') \n",
    "terra2 = pd.read_csv(serie_csv2, sep = ';', encoding='latin-1') \n",
    "terra3 = pd.read_csv(serie_csv3, sep = ';', encoding='latin-1') \n",
    "terra4 = pd.read_csv(serie_csv4, sep = ';', encoding='latin-1') \n",
    "\n",
    "sat1 = pd.read_csv(serie_csv_sat1, sep = ';',encoding='latin-1')\n",
    "sat2 = pd.read_csv(serie_csv_sat2, sep = ';',encoding='latin-1')\n",
    "sat3 = pd.read_csv(serie_csv_sat3, sep = ';',encoding='latin-1')\n",
    "sat4 = pd.read_csv(serie_csv_sat4, sep = ';',encoding='latin-1')\n"
   ]
  },
  {
   "cell_type": "markdown",
   "metadata": {},
   "source": [
    "Para el análisis de lugar se elige un año completo y se mantiene constante"
   ]
  },
  {
   "cell_type": "code",
   "execution_count": 24,
   "metadata": {
    "collapsed": true
   },
   "outputs": [],
   "source": [
    "corta1 = restringir(terra1,2006,1,12)\n",
    "corta2 = restringir(terra2,2006,1,12)\n",
    "corta3 = restringir(terra3,2006,1,12)\n",
    "corta4 = restringir(terra4,2006,1,12)"
   ]
  },
  {
   "cell_type": "markdown",
   "metadata": {},
   "source": [
    "Se hace la corrección (MCP) para cada lugar"
   ]
  },
  {
   "cell_type": "code",
   "execution_count": 25,
   "metadata": {
    "collapsed": true
   },
   "outputs": [],
   "source": [
    "corregida1 = MCP(corta1,sat1)\n",
    "corregida2 = MCP(corta2,sat2)\n",
    "corregida3 = MCP(corta3,sat3)\n",
    "corregida4 = MCP(corta4,sat4)"
   ]
  },
  {
   "cell_type": "markdown",
   "metadata": {},
   "source": [
    "Primer factor a comparar en resultado de la ENFICC para cada lugar:"
   ]
  },
  {
   "cell_type": "code",
   "execution_count": 26,
   "metadata": {},
   "outputs": [
    {
     "name": "stdout",
     "output_type": "stream",
     "text": [
      "Medellin\n",
      "La ENFICC 99% es: 3.53519358791\n",
      "La ENFICC 99% es: 4.32600282796\n",
      "La ENFICC 99% es: 3.62781224044\n",
      "Sucre\n",
      "La ENFICC 99% es: 2.37964439946\n",
      "La ENFICC 99% es: 4.8399985\n",
      "La ENFICC 99% es: 4.39233206155\n",
      "Uribia\n",
      "La ENFICC 99% es: 4.2818970848\n",
      "La ENFICC 99% es: 4.62250183333\n",
      "La ENFICC 99% es: 4.37527775642\n",
      "Valledupar\n",
      "La ENFICC 99% es: 4.56900737661\n",
      "La ENFICC 99% es: 5.06265316667\n",
      "La ENFICC 99% es: 4.67999615779\n"
     ]
    }
   ],
   "source": [
    "\n",
    "print('Medellin')\n",
    "ENFICC(terra1)\n",
    "ENFICC(sat1)\n",
    "ENFICC(corregida1)\n",
    "\n",
    "print('Sucre')\n",
    "ENFICC(terra2)\n",
    "ENFICC(sat2)\n",
    "ENFICC(corregida2)\n",
    "\n",
    "print('Uribia')\n",
    "ENFICC(terra3)\n",
    "ENFICC(sat3)\n",
    "ENFICC(corregida3)\n",
    "\n",
    "print('Valledupar')\n",
    "ENFICC(terra4)\n",
    "ENFICC(sat4)\n",
    "ENFICC(corregida4)"
   ]
  },
  {
   "cell_type": "markdown",
   "metadata": {},
   "source": [
    "Se hacen las gráficas de cada lugar"
   ]
  },
  {
   "cell_type": "code",
   "execution_count": 27,
   "metadata": {
    "collapsed": true
   },
   "outputs": [],
   "source": [
    "det = '_2006_1_12'"
   ]
  },
  {
   "cell_type": "code",
   "execution_count": 28,
   "metadata": {},
   "outputs": [
    {
     "data": {
      "image/png": "[encoded data removed]",
      "text/plain": [
       "<matplotlib.figure.Figure at 0xefa4da67b8>"
      ]
     },
     "metadata": {},
     "output_type": "display_data"
    }
   ],
   "source": [
    "grafica3(terra1,sat1,corregida1,ciudad1,det)"
   ]
  },
  {
   "cell_type": "code",
   "execution_count": 29,
   "metadata": {},
   "outputs": [
    {
     "data": {
      "image/png": "[encoded data removed]",
      "text/plain": [
       "<matplotlib.figure.Figure at 0xefa7dbb898>"
      ]
     },
     "metadata": {},
     "output_type": "display_data"
    }
   ],
   "source": [
    "grafica3(terra2,sat2,corregida2,ciudad2,det)"
   ]
  },
  {
   "cell_type": "code",
   "execution_count": 30,
   "metadata": {},
   "outputs": [
    {
     "data": {
      "image/png": "[encoded data removed]",
      "text/plain": [
       "<matplotlib.figure.Figure at 0xefa7391240>"
      ]
     },
     "metadata": {},
     "output_type": "display_data"
    }
   ],
   "source": [
    "grafica3(terra3,sat3,corregida3,ciudad3,det)"
   ]
  },
  {
   "cell_type": "code",
   "execution_count": 31,
   "metadata": {},
   "outputs": [
    {
     "data": {
      "image/png": "[encoded data removed]",
      "text/plain": [
       "<matplotlib.figure.Figure at 0xefa86cddd8>"
      ]
     },
     "metadata": {},
     "output_type": "display_data"
    }
   ],
   "source": [
    "grafica3(terra4,sat4,corregida4,ciudad4,det)"
   ]
  },
  {
   "cell_type": "markdown",
   "metadata": {},
   "source": [
    "Cálculo de errores para cada lugar"
   ]
  },
  {
   "cell_type": "code",
   "execution_count": 32,
   "metadata": {},
   "outputs": [
    {
     "name": "stdout",
     "output_type": "stream",
     "text": [
      "Medellin\n",
      "El MBE es: 0.93%\n",
      "El RMSE es: 5.37%\n",
      "El pvalue es: 45.97%\n",
      "Sucre\n",
      "El MBE es: 6.77%\n",
      "El RMSE es: 13.38%\n",
      "El pvalue es: 0.59%\n",
      "Urubia\n",
      "El MBE es: 2.68%\n",
      "El RMSE es: 4.99%\n",
      "El pvalue es: 1.39%\n",
      "Valledupar\n",
      "El MBE es: 3.36%\n",
      "El RMSE es: 9.92%\n",
      "El pvalue es: 0.23%\n"
     ]
    }
   ],
   "source": [
    "print('Medellin')\n",
    "MBE(terra1,corregida1)\n",
    "RMSE(terra1,corregida1)\n",
    "KSI(terra1,corregida1)\n",
    "\n",
    "print('Sucre')\n",
    "MBE(terra2,corregida2)\n",
    "RMSE(terra2,corregida2)\n",
    "KSI(terra2,corregida2)\n",
    "\n",
    "print('Urubia')\n",
    "MBE(terra3,corregida3)\n",
    "RMSE(terra3,corregida3)\n",
    "KSI(terra3,corregida3)\n",
    "\n",
    "print('Valledupar')\n",
    "MBE(terra4,corregida4)\n",
    "RMSE(terra4,corregida4)\n",
    "KSI(terra4,corregida4)"
   ]
  },
  {
   "cell_type": "code",
   "execution_count": null,
   "metadata": {
    "collapsed": true
   },
   "outputs": [],
   "source": []
  }
 ],
 "metadata": {
  "kernel_info": {
   "name": "python3"
  },
  "kernelspec": {
   "display_name": "Python 3",
   "language": "python",
   "name": "python3"
  },
  "language_info": {
   "codemirror_mode": {
    "name": "ipython",
    "version": 3
   },
   "file_extension": ".py",
   "mimetype": "text/x-python",
   "name": "python",
   "nbconvert_exporter": "python",
   "pygments_lexer": "ipython3",
   "version": "3.6.3"
  },
  "nteract": {
   "version": "0.6.2"
  }
 },
 "nbformat": 4,
 "nbformat_minor": 4
}
