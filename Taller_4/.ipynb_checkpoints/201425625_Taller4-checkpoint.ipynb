{
 "cells": [
  {
   "cell_type": "markdown",
   "metadata": {},
   "source": [
    "# Taller 4"
   ]
  },
  {
   "cell_type": "markdown",
   "metadata": {},
   "source": [
    "1. [Ejemplos y resultados -Kutz (página 24)-](#primero)\n",
    "    - [Series y transformadas de Fourier](#12.1)\n",
    "    - [Aplicaciones del FFT: Detección y filtrado](#12.2)\n",
    "    - [Aplicaciones del FFT: Detección y promedio](#12.3)\n",
    "    - [Análisis de tiempo y frecuencia](#12.4)\n",
    "1. [Ejemplo propio](#segundo)"
   ]
  },
  {
   "cell_type": "code",
   "execution_count": 48,
   "metadata": {},
   "outputs": [
    {
     "name": "stdout",
     "output_type": "stream",
     "text": [
      "Populating the interactive namespace from numpy and matplotlib\n"
     ]
    }
   ],
   "source": [
    "%pylab inline\n",
    "import matplotlib.pyplot as plt\n",
    "import matplotlib.pylab as pylab\n",
    "import numpy as np\n",
    "import string\n",
    "import matplotlib.cm as cm\n",
    "import os\n",
    "#Carpeta para guardar las gráficas\n",
    "output_dir = os.path.join( '.','output') "
   ]
  },
  {
   "cell_type": "markdown",
   "metadata": {},
   "source": [
    "## 1. Ejemplos y resultados -Kutz- <a name=\"primero\"></a>\n"
   ]
  },
  {
   "cell_type": "markdown",
   "metadata": {},
   "source": [
    "La idea general de utilizar una transformada de Fourier es **representar funciones y sus derivadas** como sumas de senos y cosenos. Esto se puede hacer a través de una una FFT (Fast-Fourirer transform).  "
   ]
  },
  {
   "cell_type": "markdown",
   "metadata": {},
   "source": [
    "#### Series y transfomadas de Fourier <a name=\"12.1\"></a>"
   ]
  },
  {
   "cell_type": "markdown",
   "metadata": {},
   "source": [
    "La transformada de Fourier es una integral definida desde -$\\infty$ hasta $\\infty$.<br /> \n",
    "$F(k)=\\frac{1}{\\sqrt{2\\pi}}\\int_{-\\infty}^{\\infty}e^{-ikx}f(x)\\mathrm{d}x$ <br />\n",
    "Su inversa se define como: <br />\n",
    "$f(x)=\\frac{1}{\\sqrt{2\\pi}}\\int_{-\\infty}^{\\infty}e^{ikx}F(k)\\mathrm{d}k$ <br />\n",
    "En relación con la derivada de una función, se llega a que la transformada de Fourier de una derivada, representada como $\\widehat{f'(x)}$ es la siguiente: \n",
    "$\\widehat{f'(x)} = ik\\widehat{f(x)}$ y en general \n",
    "$\\widehat{f^{n}(x)} = (ik)^n\\widehat{f(x)}$\n"
   ]
  },
  {
   "cell_type": "markdown",
   "metadata": {},
   "source": [
    "**Ejemplos**"
   ]
  },
  {
   "attachments": {},
   "cell_type": "markdown",
   "metadata": {},
   "source": [
    "1. Si tenemos una ecuación diferencial de segundo orden como la siguiente:\n",
    "$y'' - \\omega^2y = -f(x) \\hspace{5mm} x \\in [-\\infty,\\infty]$ <br />\n",
    "Sacando la transformada de cada función:\n",
    "$\\widehat{y''}-\\omega^2\\widehat{y} = -\\widehat{f}$ <br />\n",
    "Que equivale a:\n",
    "$i^2k^2\\widehat{y}-\\omega^2\\widehat{y} = -\\widehat{f}$ <br />\n",
    "$-k^2\\widehat{y}-\\omega^2\\widehat{y} = -\\widehat{f}$ <br />\n",
    "Despejando para $\\widehat{y}$: <br />\n",
    "$\\widehat{y} =  \\frac{\\widehat{f}}{k^2+\\omega^2}$\n",
    "La **solución** de esta ecuación diferencial de segundo orden, utilizando la ecuación de la inversa de la transformada, sería:\n",
    "$y(x) = \\frac{1}{\\sqrt{2\\pi}}\\int_{-\\infty}^\\infty e^{ikx} \\frac{\\widehat{f}}{k^2+\\omega^2} \\mathrm{d}k$<br />\n",
    "Y el resultado de esta integral se puede evaluar numéricamente.\n",
    "\n"
   ]
  },
  {
   "cell_type": "markdown",
   "metadata": {},
   "source": [
    "    En cuanto a código:\n"
   ]
  },
  {
   "cell_type": "code",
   "execution_count": 44,
   "metadata": {},
   "outputs": [
    {
     "data": {
      "image/png": "[encoded data removed]",
      "text/plain": [
       "<matplotlib.figure.Figure at 0xfceb785470>"
      ]
     },
     "metadata": {},
     "output_type": "display_data"
    }
   ],
   "source": [
    "L = 20    #Dominio de la función\n",
    "n = 128   #Cuantas series de Fourier se crean (Fourier mode = 2^n)\n",
    "x2 = linspace(L/2,-L/2,n+1)\n",
    "x = x2[1:n]\n",
    "u = exp(-x*x)\n",
    "plt.plot(x,u)\n",
    "plt.show()"
   ]
  },
  {
   "cell_type": "code",
   "execution_count": 52,
   "metadata": {},
   "outputs": [
    {
     "name": "stderr",
     "output_type": "stream",
     "text": [
      "C:\\Users\\LENOVO\\Anaconda3\\lib\\site-packages\\numpy\\core\\numeric.py:531: ComplexWarning: Casting complex values to real discards the imaginary part\n",
      "  return array(a, dtype, copy=False, order=order)\n"
     ]
    },
    {
     "data": {
      "image/png": "[encoded data removed]",
      "text/plain": [
       "<matplotlib.figure.Figure at 0xfcebdd0c18>"
      ]
     },
     "metadata": {},
     "output_type": "display_data"
    }
   ],
   "source": [
    "ut = fft.fft(u)\n",
    "utshift = fft.fftshift(ut)\n",
    "plt.figure(1)\n",
    "plt.subplot(311)\n",
    "plt.plot(x,u)\n",
    "plt.subplot(323)\n",
    "plt.plot(ut)\n",
    "plt.subplot(324)\n",
    "plt.plot(abs(ut))\n",
    "plt.subplot(325)\n",
    "plt.plot(utshift)\n",
    "plt.subplot(326)\n",
    "plt.plot(abs(utshift))\n",
    "plt.tight_layout()\n",
    "pylab.savefig(os.path.join(output_dir,'12.1.png'), dpi=180)\n",
    "plt.show()\n"
   ]
  },
  {
   "cell_type": "markdown",
   "metadata": {},
   "source": [
    "    2. La función FFT puede usarse para generar las derivadas globales de la función ya que los senos y cosenos se expanden a lo largo de toda la función. En el ejemple hacen la primera y segunda derivada de la funcion de secante hiperbólico de x como se muestra a continuación."
   ]
  },
  {
   "cell_type": "code",
   "execution_count": 54,
   "metadata": {},
   "outputs": [
    {
     "ename": "NameError",
     "evalue": "name 'sech' is not defined",
     "output_type": "error",
     "traceback": [
      "\u001b[1;31m---------------------------------------------------------------------------\u001b[0m",
      "\u001b[1;31mNameError\u001b[0m                                 Traceback (most recent call last)",
      "\u001b[1;32m<ipython-input-54-41bdb4e977c0>\u001b[0m in \u001b[0;36m<module>\u001b[1;34m()\u001b[0m\n\u001b[1;32m----> 1\u001b[1;33m \u001b[0mux\u001b[0m \u001b[1;33m=\u001b[0m \u001b[0msech\u001b[0m\u001b[1;33m(\u001b[0m\u001b[0mx\u001b[0m\u001b[1;33m)\u001b[0m\u001b[1;33m\u001b[0m\u001b[0m\n\u001b[0m",
      "\u001b[1;31mNameError\u001b[0m: name 'sech' is not defined"
     ]
    }
   ],
   "source": [
    "ux = sech(x)"
   ]
  },
  {
   "cell_type": "markdown",
   "metadata": {},
   "source": [
    "#### Aplicaciones de FFT: Detección y filtrado <a name=\"12.2\"></a>"
   ]
  },
  {
   "cell_type": "code",
   "execution_count": null,
   "metadata": {
    "collapsed": true
   },
   "outputs": [],
   "source": []
  },
  {
   "cell_type": "code",
   "execution_count": null,
   "metadata": {
    "collapsed": true
   },
   "outputs": [],
   "source": []
  },
  {
   "cell_type": "markdown",
   "metadata": {},
   "source": [
    "#### Aplicaciones de FFT: Detección y promedio <a name=\"12.3\"></a>"
   ]
  },
  {
   "cell_type": "code",
   "execution_count": null,
   "metadata": {
    "collapsed": true
   },
   "outputs": [],
   "source": []
  },
  {
   "cell_type": "code",
   "execution_count": null,
   "metadata": {
    "collapsed": true
   },
   "outputs": [],
   "source": []
  },
  {
   "cell_type": "markdown",
   "metadata": {},
   "source": [
    "#### Análisis de tiempo y frecuecia <a name=\"12.4\"></a>"
   ]
  },
  {
   "cell_type": "code",
   "execution_count": null,
   "metadata": {
    "collapsed": true
   },
   "outputs": [],
   "source": []
  },
  {
   "cell_type": "code",
   "execution_count": null,
   "metadata": {
    "collapsed": true
   },
   "outputs": [],
   "source": []
  },
  {
   "cell_type": "markdown",
   "metadata": {},
   "source": [
    "## 2. Ejemplo  propio <a name=\"segundo\"></a>"
   ]
  },
  {
   "cell_type": "code",
   "execution_count": null,
   "metadata": {
    "collapsed": true
   },
   "outputs": [],
   "source": []
  },
  {
   "cell_type": "code",
   "execution_count": null,
   "metadata": {
    "collapsed": true
   },
   "outputs": [],
   "source": []
  }
 ],
 "metadata": {
  "kernelspec": {
   "display_name": "Python 3",
   "language": "python",
   "name": "python3"
  },
  "language_info": {
   "codemirror_mode": {
    "name": "ipython",
    "version": 3
   },
   "file_extension": ".py",
   "mimetype": "text/x-python",
   "name": "python",
   "nbconvert_exporter": "python",
   "pygments_lexer": "ipython3",
   "version": "3.6.3"
  }
 },
 "nbformat": 4,
 "nbformat_minor": 2
}
