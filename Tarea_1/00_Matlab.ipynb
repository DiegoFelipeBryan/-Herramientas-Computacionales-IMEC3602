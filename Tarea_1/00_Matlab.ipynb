{
 "cells": [
  {
   "cell_type": "markdown",
   "metadata": {
    "collapsed": true
   },
   "source": [
    "## Notas de clase \n",
    "### 2.2 Matematica simple"
   ]
  },
  {
   "cell_type": "code",
   "execution_count": null,
   "metadata": {
    "collapsed": true
   },
   "outputs": [],
   "source": [
    "quices = 4\n",
    "proyectos = 4.5\n",
    "parciales = 3.0\n",
    "tareas = 4.8\n",
    "notadefinitiva = quices*0.15 + proyectos*0.35 + parciales*0.4 + tareas*0.1"
   ]
  },
  {
   "cell_type": "code",
   "execution_count": 3,
   "metadata": {},
   "outputs": [
    {
     "name": "stdout",
     "output_type": "stream",
     "text": [
      "3.855\n"
     ]
    }
   ],
   "source": [
    "print(notadefinitiva)"
   ]
  },
  {
   "cell_type": "code",
   "execution_count": 214,
   "metadata": {
    "collapsed": true
   },
   "outputs": [],
   "source": [
    "#para matrices\n",
    "import numpy as np\n",
    "#para graficar\n",
    "import matplotlib.pyplot as plt\n",
    "import random as rd\n",
    "# para elevar\n",
    "import math as mt"
   ]
  },
  {
   "cell_type": "markdown",
   "metadata": {},
   "source": [
    "### 2.4 Arreglos y operaciones"
   ]
  },
  {
   "cell_type": "code",
   "execution_count": 8,
   "metadata": {},
   "outputs": [
    {
     "name": "stdout",
     "output_type": "stream",
     "text": [
      "[1 2 3 4]\n"
     ]
    }
   ],
   "source": [
    "x = np.array([1, 2, 3, 4])\n",
    "print(x)"
   ]
  },
  {
   "cell_type": "markdown",
   "metadata": {
    "collapsed": true
   },
   "source": [
    "### Ejercicio 2.1"
   ]
  },
  {
   "cell_type": "code",
   "execution_count": 26,
   "metadata": {},
   "outputs": [
    {
     "name": "stdout",
     "output_type": "stream",
     "text": [
      "13\n",
      "18\n",
      "13\n",
      "16\n",
      "11\n",
      "10\n",
      "14\n",
      "19\n",
      "16\n",
      "20\n",
      "10\n",
      "10\n",
      "13\n",
      "17\n",
      "10\n",
      "17\n",
      "17\n",
      "14\n",
      "17\n",
      "16\n"
     ]
    }
   ],
   "source": [
    "for x in range(20): \n",
    "    print(rd.randint(10,20))"
   ]
  },
  {
   "cell_type": "code",
   "execution_count": 198,
   "metadata": {
    "collapsed": true
   },
   "outputs": [],
   "source": [
    "N = 3000"
   ]
  },
  {
   "cell_type": "code",
   "execution_count": 225,
   "metadata": {},
   "outputs": [],
   "source": [
    "Exito = 0\n",
    "X = np.linspace(1,N,N)\n",
    "Y = np.zeros((N))\n"
   ]
  },
  {
   "cell_type": "code",
   "execution_count": 200,
   "metadata": {},
   "outputs": [],
   "source": [
    "for i in range(N):\n",
    "    x = -1 + (1-(-1))*np.random.random((i,2))\n",
    "    for j in range(i):\n",
    "        xo = x[j,0]\n",
    "        yo = x[j,1]\n",
    "        a = mt.pow(xo,2) + mt.pow(yo,2)- 1\n",
    "        if(a < 0):\n",
    "            Exito = Exito +1\n",
    "            \n",
    "            \n",
    "    prob = Exito/(i+1)\n",
    "    Y[i] = prob - np.pi/4\n",
    "    Exito = 0\n",
    "    \n",
    "        \n"
   ]
  },
  {
   "cell_type": "code",
   "execution_count": 201,
   "metadata": {},
   "outputs": [
    {
     "name": "stdout",
     "output_type": "stream",
     "text": [
      "3.16933333333\n"
     ]
    }
   ],
   "source": [
    "pi = (Y[N-1]+ np.pi/4)*4\n",
    "print(pi)"
   ]
  },
  {
   "cell_type": "markdown",
   "metadata": {
    "collapsed": true
   },
   "source": [
    "#### Gráfica"
   ]
  },
  {
   "cell_type": "code",
   "execution_count": 224,
   "metadata": {},
   "outputs": [
    {
     "data": {
      "image/png": "[encoded data removed]",
      "text/plain": [
       "<matplotlib.figure.Figure at 0xb56541a9e8>"
      ]
     },
     "metadata": {},
     "output_type": "display_data"
    },
    {
     "data": {
      "text/plain": [
       "Text(0,0.5,'Convergencia')"
      ]
     },
     "execution_count": 224,
     "metadata": {},
     "output_type": "execute_result"
    }
   ],
   "source": [
    "G = plt.plot(X,Y)\n",
    "plt.show(G)\n",
    "plt.xscale('log')\n",
    "\n",
    "plt.xlabel(\"Número de puntos\")\n",
    "plt.ylabel(\"Convergencia\")"
   ]
  },
  {
   "cell_type": "code",
   "execution_count": null,
   "metadata": {
    "collapsed": true
   },
   "outputs": [],
   "source": []
  },
  {
   "cell_type": "code",
   "execution_count": null,
   "metadata": {
    "collapsed": true
   },
   "outputs": [],
   "source": []
  }
 ],
 "metadata": {
  "kernelspec": {
   "display_name": "Python 3",
   "language": "python",
   "name": "python3"
  }
 },
 "nbformat": 4,
 "nbformat_minor": 2
}
