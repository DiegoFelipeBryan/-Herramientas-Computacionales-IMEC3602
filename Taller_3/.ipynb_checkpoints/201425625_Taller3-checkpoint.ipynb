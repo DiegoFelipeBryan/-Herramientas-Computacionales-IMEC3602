{
 "cells": [
  {
   "cell_type": "markdown",
   "metadata": {},
   "source": [
    "# Taller 3\n",
    "1. [Función  que dada una ruta de archivo de VBox lea los datos y trabaje que con ellos.](#primero) **La función debe servir para los dos tipos de archivos VBox**.\n",
    "\n",
    "1. [Comparar el rendimiento de combustión interna con el kart eléctrico en términos de tiempo de vuelta, velocidades instantáneas y aceleraciones, comparación y discusión.](#segundo)\n",
    "\n",
    "1. [A partir de los modelos del taller anterior, analizar el desempeño de los motores de combustión interna y eléctrico y comparar el momento par, la potencia y la velocidad de giro.](#tercero)\n",
    "\n",
    "1. [Sugerir posibles mejoras al kart eléctrico para acercar su desempeño al del kart de combustión interna.](#cuarto)"
   ]
  },
  {
   "cell_type": "code",
   "execution_count": 2,
   "metadata": {},
   "outputs": [
    {
     "name": "stdout",
     "output_type": "stream",
     "text": [
      "Populating the interactive namespace from numpy and matplotlib\n"
     ]
    }
   ],
   "source": [
    "%pylab inline\n",
    "import matplotlib.pyplot as plt\n",
    "import matplotlib.pylab as pylab\n",
    "import numpy as np\n",
    "import string\n",
    "import matplotlib.cm as cm\n",
    "import os\n",
    "from scipy import ndimage\n"
   ]
  },
  {
   "cell_type": "code",
   "execution_count": 32,
   "metadata": {},
   "outputs": [],
   "source": [
    "def load(base_dir,data_file):\n",
    "    with open(os.path.join(base_dir,data_file), 'r') as vboxdata:\n",
    "        section = []\n",
    "        time = []\n",
    "        lat = []\n",
    "        long = []\n",
    "        vel = []\n",
    "        height = []\n",
    "        vertv = []\n",
    "        for line in vboxdata:\n",
    "            if line[0] == '[':\n",
    "                section = str.replace(line, \"\\n\",\"\")\n",
    "                continue\n",
    "            if section == '[column names]':\n",
    "                col_names = str.replace(line, \"  \\n\",\"\").split('  ')\n",
    "                section = []\n",
    "            if section == '[data]':\n",
    "                linesplit = str.replace(line, \" \\n\",\"\").split(' ')\n",
    "                time.append(float(linesplit[1][0:2])*3600+float(linesplit[1][2:4])*60+float(linesplit[1][4:]))\n",
    "                lat.append(float(linesplit[2]))\n",
    "                long.append(float(linesplit[3]))\n",
    "                vel.append(float(linesplit[4]))\n",
    "                height.append(float(linesplit[6]))\n",
    "                vertv.append(float(linesplit[7]))\n",
    "\n",
    "    time = np.asarray(time)\n",
    "    lat = np.asarray(lat)\n",
    "    long = np.asarray(long)\n",
    "    vel = np.asarray(vel)\n",
    "    height = np.asarray(height)\n",
    "    vertv = np.asarray(vertv)\n",
    "    time_base = time[0]\n",
    "    time = time - time_base\n",
    "    lat = lat/60.0\n",
    "    long = -long/60.0\n",
    "    dt = time[1]-time[0]\n",
    "    return time,lat,long,vel,height,vertv,time_base,dt"
   ]
  },
  {
   "cell_type": "code",
   "execution_count": 33,
   "metadata": {},
   "outputs": [],
   "source": [
    "carpeta1 = 'data_electrico'\n",
    "file1 = 'VBS__052.VBO'"
   ]
  },
  {
   "cell_type": "code",
   "execution_count": 34,
   "metadata": {},
   "outputs": [],
   "source": [
    "kartelectric = load(carpeta1,file1)\n",
    "tiempoele = kartelectric[0]\n",
    "latitudele = kartelectric[1]\n",
    "longitudele = kartelectric[2]\n",
    "velocidadele = kartelectric[3]\n",
    "alturaele = kartelectric[4]\n",
    "velocidadvertele =  kartelectric[5]\n",
    "tiempobaseele = kartelectric[6]\n",
    "deltaele = kartelectric[7]\n"
   ]
  },
  {
   "cell_type": "code",
   "execution_count": 38,
   "metadata": {},
   "outputs": [
    {
     "name": "stdout",
     "output_type": "stream",
     "text": [
      "4968\n"
     ]
    }
   ],
   "source": [
    "for i in range(size(tiempoele)):\n",
    "    if tiempoele[i] >= 716:\n",
    "        print(i)\n",
    "        break\n",
    "    \n"
   ]
  },
  {
   "cell_type": "code",
   "execution_count": 41,
   "metadata": {},
   "outputs": [
    {
     "name": "stdout",
     "output_type": "stream",
     "text": [
      "7424\n"
     ]
    }
   ],
   "source": [
    "for i in range(size(tiempoele)):\n",
    "    if tiempoele[i] == 912:\n",
    "        print(i)\n",
    "        break"
   ]
  },
  {
   "cell_type": "code",
   "execution_count": 166,
   "metadata": {},
   "outputs": [
    {
     "data": {
      "image/png": "[encoded data removed]",
      "text/plain": [
       "<matplotlib.figure.Figure at 0x8b8e1b49b0>"
      ]
     },
     "metadata": {},
     "output_type": "display_data"
    }
   ],
   "source": [
    "plt.plot(longitudele[3620:5520],latitudele[3620:5520])\n",
    "plt.axis('off')\n",
    "plt.show()"
   ]
  },
  {
   "cell_type": "code",
   "execution_count": 167,
   "metadata": {},
   "outputs": [],
   "source": [
    "tiempovueltaele = tiempoele[3620:5520]-tiempoele[3620]"
   ]
  },
  {
   "cell_type": "code",
   "execution_count": 168,
   "metadata": {},
   "outputs": [
    {
     "data": {
      "text/plain": [
       "282.30000000000291"
      ]
     },
     "execution_count": 168,
     "metadata": {},
     "output_type": "execute_result"
    }
   ],
   "source": [
    "tiempototalele = tiempovueltaele[-1]\n",
    "tiempototalele"
   ]
  },
  {
   "cell_type": "code",
   "execution_count": 169,
   "metadata": {
    "collapsed": true
   },
   "outputs": [],
   "source": [
    "carpeta2 = 'Data'\n",
    "file2 = 'VBOX0020.VBO'"
   ]
  },
  {
   "cell_type": "code",
   "execution_count": 21,
   "metadata": {
    "collapsed": true
   },
   "outputs": [],
   "source": [
    "kartgaso = load(carpeta2,file2)\n",
    "tiempogas = kartgaso[0]\n",
    "latitudgas = kartgaso[1]\n",
    "longitudgas = kartgaso[2]\n",
    "velocidadgas = kartgaso[3]\n",
    "alturagas = kartgaso[4]\n",
    "velocidadvertgas =  kartgaso[5]\n",
    "tiempobasegas = kartgaso[6]\n",
    "deltagas = kartgaso[7]"
   ]
  },
  {
   "cell_type": "code",
   "execution_count": 100,
   "metadata": {},
   "outputs": [
    {
     "data": {
      "image/png": "[encoded data removed]",
      "text/plain": [
       "<matplotlib.figure.Figure at 0x8b8ceba780>"
      ]
     },
     "metadata": {},
     "output_type": "display_data"
    }
   ],
   "source": [
    "plt.plot(longitudgas[3000:8432],latitudgas[3000:8432])\n",
    "plt.axis('off')\n",
    "plt.show()"
   ]
  },
  {
   "cell_type": "code",
   "execution_count": 109,
   "metadata": {},
   "outputs": [
    {
     "data": {
      "text/plain": [
       "54.310000000004948"
      ]
     },
     "execution_count": 109,
     "metadata": {},
     "output_type": "execute_result"
    }
   ],
   "source": [
    "tiempovueltagas = tiempogas[3000:8432]-tiempogas[3000]\n",
    "tiempototalgas = tiempovueltagas[-1]\n",
    "tiempototalgas"
   ]
  },
  {
   "cell_type": "code",
   "execution_count": null,
   "metadata": {
    "collapsed": true
   },
   "outputs": [],
   "source": []
  }
 ],
 "metadata": {
  "kernelspec": {
   "display_name": "Python 3",
   "language": "python",
   "name": "python3"
  },
  "language_info": {
   "codemirror_mode": {
    "name": "ipython",
    "version": 3
   },
   "file_extension": ".py",
   "mimetype": "text/x-python",
   "name": "python",
   "nbconvert_exporter": "python",
   "pygments_lexer": "ipython3",
   "version": "3.6.3"
  }
 },
 "nbformat": 4,
 "nbformat_minor": 2
}
